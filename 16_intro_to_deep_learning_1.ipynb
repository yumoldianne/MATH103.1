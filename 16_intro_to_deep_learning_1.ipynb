{
 "cells": [
  {
   "cell_type": "markdown",
   "id": "0db8d391-3fcd-4bdd-8ca6-fda22de08bc9",
   "metadata": {},
   "source": [
    "# Module 5 Deep Learning Methods"
   ]
  },
  {
   "cell_type": "markdown",
   "id": "266ac414-21e0-40ae-94a0-519fe73fdaf2",
   "metadata": {},
   "source": [
    "## Introduction to deep learning\n",
    " \n",
    "Deep learning is a subset of machine learning, where the fundamental model structure is a network of inputs, hidden layers, and outputs, as shown below.\n",
    "\n",
    "![](images/neural_network01.jpg)\n",
    "\n",
    "A network can have one or more hidden layers. \n",
    "\n",
    "The original motivation of deep learning was to create models inspired by how the human brain learns: **through interconnected cells called neurons**.\n",
    "This is the reason why we continue to call deep learning models as **neural networks**. There are a number of libraries and frameworks for deep learning in python.\n",
    "\n",
    "These are:\n",
    "\n",
    "*   `Tensorflow`: an open-source library for numerical computation and machine learning.\n",
    "*   `Keras`: a high-level neural network API that runs on top of TensorFlow, mxnet, or Theano.\n",
    "*   `Apache mxnet`: a scalable and flexible deep learning framework that supports multiple languages and devices.\n",
    "*   `Caffe`: a fast and modular framework for deep learning, mainly used for computer vision.\n",
    "*   `Theano`: a Python library that allows you to define, optimize, and evaluate mathematical expressions involving multi-dimensional arrays.\n",
    "*   `sklearn-theano`: a library that wraps some of the scikit-learn API with Theano expressions.\n",
    "*   `Chainer`: a Python-based framework for deep learning that supports dynamic computation graphs.\n",
    "*   `Lasagne`: a lightweight library that builds on top of Theano to provide neural network layers and utilities.\n",
    "*   `PyTorch`: a Python package that provides tensor computation and dynamic neural networks.\n",
    "\n",
    "In this course we'll focus on PyTorch. It is being used by deep learning engineers in industry and it is a favored tool amongst researchers. \n",
    "Many deep learning papers are published using PyTorch. PyTorch is designed to be intuitive and user-friendly, sharing a lot of common ground with the Python library NumPy.\n",
    "\n",
    "**Comparing machine learning and deep learning**\n",
    "    \n",
    "*  Machine learning and deep learning can both be described as artificial intelligence. \n",
    "*  In both cases, a computer system learns from data to make intelligent decisions. \n",
    "*  However, deep learning diverges from machine learning in many different aspects.\n",
    "\n",
    "![](images/ML_vs_DL.png)"
   ]
  },
  {
   "cell_type": "code",
   "execution_count": 1,
   "id": "a7977577-e76e-4107-bd2e-04bb92cff50f",
   "metadata": {},
   "outputs": [],
   "source": [
    "#!pip install torch\n",
    "import torch"
   ]
  },
  {
   "cell_type": "markdown",
   "id": "e31f5a4c-ab8f-4956-8e09-549389b25ab0",
   "metadata": {},
   "source": [
    "## 5.1 Tensors in pytorch"
   ]
  },
  {
   "cell_type": "code",
   "execution_count": 2,
   "id": "20c6f9e7-2c24-4a57-9d98-e779168bc913",
   "metadata": {},
   "outputs": [
    {
     "name": "stdout",
     "output_type": "stream",
     "text": [
      "tensor([[1, 2, 3],\n",
      "        [4, 5, 6]])\n"
     ]
    }
   ],
   "source": [
    "import torch\n",
    "\n",
    "# tensors in pytorch\n",
    "array = [[1, 2, 3], [4, 5, 6]]\n",
    "tensor_input = torch.tensor(array)\n",
    "print(tensor_input)"
   ]
  },
  {
   "cell_type": "code",
   "execution_count": 3,
   "id": "e53ca839-5ebc-427b-a5c2-d38642108e6f",
   "metadata": {},
   "outputs": [
    {
     "name": "stdout",
     "output_type": "stream",
     "text": [
      "tensor_input.data: \n",
      " tensor([[1, 2, 3],\n",
      "        [4, 5, 6]])\n",
      "tensor_input.shape:  torch.Size([2, 3])\n",
      "tensor_input.device:  cpu\n",
      "tensor.dtype:  torch.int64\n"
     ]
    }
   ],
   "source": [
    "# some of the tensor attributes and functions\n",
    "print(\"tensor_input.data: \\n\", tensor_input.data)\n",
    "print(\"tensor_input.shape: \", tensor_input.shape)\n",
    "print(\"tensor_input.device: \",tensor_input.device)\n",
    "print(\"tensor.dtype: \",tensor_input.dtype)"
   ]
  },
  {
   "cell_type": "code",
   "execution_count": 4,
   "id": "7ddd5900-7f5a-4cce-bf9c-8b9be78ec5f0",
   "metadata": {},
   "outputs": [
    {
     "name": "stdout",
     "output_type": "stream",
     "text": [
      "True\n"
     ]
    }
   ],
   "source": [
    "# check that your GPU is working in Pytorch\n",
    "print(torch.cuda.is_available())"
   ]
  },
  {
   "cell_type": "code",
   "execution_count": 5,
   "id": "a8f62cfd-86fa-4a30-8e6a-687b45602607",
   "metadata": {},
   "outputs": [],
   "source": [
    "dev = torch.device(\n",
    "    \"cuda\") if torch.cuda.is_available() else torch.device(\"cpu\")"
   ]
  },
  {
   "cell_type": "code",
   "execution_count": 6,
   "id": "6529885e-3022-4483-895b-e306338fe7e1",
   "metadata": {},
   "outputs": [
    {
     "name": "stdout",
     "output_type": "stream",
     "text": [
      "tensor([[1, 4],\n",
      "        [2, 5],\n",
      "        [3, 6]], device='cuda:0')\n"
     ]
    }
   ],
   "source": [
    "transpose = tensor_input.t().to(dev)\n",
    "print(transpose)"
   ]
  },
  {
   "cell_type": "code",
   "execution_count": 7,
   "id": "171df93e-c6e5-48ca-9682-cd09a213db8c",
   "metadata": {},
   "outputs": [
    {
     "name": "stdout",
     "output_type": "stream",
     "text": [
      "cpu\n",
      "cuda:0\n"
     ]
    }
   ],
   "source": [
    "print(tensor_input.device)\n",
    "print(transpose.device)"
   ]
  },
  {
   "cell_type": "code",
   "execution_count": 8,
   "id": "7088e87d-a42f-4bdb-8d5a-1f90db239339",
   "metadata": {},
   "outputs": [
    {
     "name": "stdout",
     "output_type": "stream",
     "text": [
      "cuda:0\n",
      "torch.Size([3, 128, 128])\n"
     ]
    }
   ],
   "source": [
    "# creating a tensor of rank 3\n",
    "torch.manual_seed(0)\n",
    "tensor3R = torch.randn(3,128,128, device = \"cuda\")\n",
    "print(tensor3R.device)\n",
    "print(tensor3R.shape)"
   ]
  },
  {
   "cell_type": "markdown",
   "id": "34b80775-964d-48ed-9692-21e33a0284ab",
   "metadata": {},
   "source": [
    "### 5.1.1 Tensor operations"
   ]
  },
  {
   "cell_type": "code",
   "execution_count": 9,
   "id": "8c438a0c-655e-4275-a9e6-2124bf8f57ce",
   "metadata": {},
   "outputs": [
    {
     "name": "stdout",
     "output_type": "stream",
     "text": [
      "tensor addition: \n",
      " tensor([[3, 3],\n",
      "        [5, 5]]) \n",
      "\n",
      "tensor subtraction: \n",
      " tensor([[-1, -1],\n",
      "        [-1, -1]])\n"
     ]
    }
   ],
   "source": [
    "# compatible shapes\n",
    "a = torch.tensor([[1, 1], [2, 2]])\n",
    "b = torch.tensor([[2, 2], [3, 3]])\n",
    "print(\"tensor addition: \\n\",a + b, \"\\n\")    \n",
    "print(\"tensor subtraction: \\n\",a - b)        "
   ]
  },
  {
   "cell_type": "code",
   "execution_count": 10,
   "id": "366d0d37-91c1-46e0-9baf-eb1773a0d4b2",
   "metadata": {},
   "outputs": [],
   "source": [
    "# incompatible shapes\n",
    "a = torch.tensor([[1, 1], [2, 2]])\n",
    "c = torch.tensor([[2, 2, 4], [3, 3, 5]])\n",
    "\n",
    "# print(a + c)\n",
    "## RuntimeError                              Traceback (most recent call last)\n",
    "## Cell In[10], line 5\n",
    "##      2 a = torch.tensor([[1, 1], [2, 2]])\n",
    "##      3 c = torch.tensor([[2, 2, 4], [3, 3, 5]])\n",
    "##----> 5 print(a + c)\n",
    "\n",
    "## RuntimeError: The size of tensor a (2) must match the size of tensor b (3) at non-singleton dimension 1"
   ]
  },
  {
   "cell_type": "code",
   "execution_count": 11,
   "id": "86e49d1c-10d2-43b3-8ad5-ee444f9d61f6",
   "metadata": {},
   "outputs": [
    {
     "name": "stdout",
     "output_type": "stream",
     "text": [
      "tensor(5)\n",
      "torch.Size([])\n"
     ]
    }
   ],
   "source": [
    "d = torch.tensor(5)\n",
    "print(d)\n",
    "print(d.shape)"
   ]
  },
  {
   "cell_type": "code",
   "execution_count": 12,
   "id": "6c328ee6-46b6-435b-8bc3-08561c36afcb",
   "metadata": {},
   "outputs": [
    {
     "name": "stdout",
     "output_type": "stream",
     "text": [
      "tensor([[1, 1],\n",
      "        [2, 2]])\n",
      "tensor([[6, 6],\n",
      "        [7, 7]])\n",
      "tensor([[6, 6],\n",
      "        [7, 7]])\n"
     ]
    }
   ],
   "source": [
    "print(a)\n",
    "print(a + 5)\n",
    "print(a + d)"
   ]
  },
  {
   "cell_type": "code",
   "execution_count": 13,
   "id": "cd10faea-6186-4502-a44f-bf354ae89b06",
   "metadata": {},
   "outputs": [
    {
     "data": {
      "text/plain": [
       "tensor(True)"
      ]
     },
     "execution_count": 13,
     "metadata": {},
     "output_type": "execute_result"
    }
   ],
   "source": [
    "5 == torch.tensor(5)"
   ]
  },
  {
   "cell_type": "code",
   "execution_count": 14,
   "id": "98cb68d1-996d-43eb-bc23-945f79279c01",
   "metadata": {},
   "outputs": [
    {
     "name": "stdout",
     "output_type": "stream",
     "text": [
      "tensor([[1, 1],\n",
      "        [2, 2]])\n",
      "tensor([[2, 2],\n",
      "        [3, 3]])\n",
      "tensor([[2, 2],\n",
      "        [6, 6]])\n"
     ]
    }
   ],
   "source": [
    "# element-wise multiplication\n",
    "print(a)\n",
    "print(b)\n",
    "print(a * b)"
   ]
  },
  {
   "cell_type": "code",
   "execution_count": 15,
   "id": "95a2b83e-4559-456a-8c29-5aef25baaa3d",
   "metadata": {},
   "outputs": [
    {
     "data": {
      "text/plain": [
       "tensor([[ 5,  5],\n",
       "        [10, 10]])"
      ]
     },
     "execution_count": 15,
     "metadata": {},
     "output_type": "execute_result"
    }
   ],
   "source": [
    "# dot product\n",
    "a @ b"
   ]
  },
  {
   "cell_type": "code",
   "execution_count": 16,
   "id": "8265050d-b34b-4c31-bf86-be5454fd1274",
   "metadata": {},
   "outputs": [
    {
     "name": "stdout",
     "output_type": "stream",
     "text": [
      "tensor([[[ 220.,  235.,  250.,  265.],\n",
      "         [ 580.,  631.,  682.,  733.],\n",
      "         [ 940., 1027., 1114., 1201.],\n",
      "         [1300., 1423., 1546., 1669.]],\n",
      "\n",
      "        [[1660., 1819., 1978., 2137.],\n",
      "         [2020., 2215., 2410., 2605.],\n",
      "         [2380., 2611., 2842., 3073.],\n",
      "         [2740., 3007., 3274., 3541.]],\n",
      "\n",
      "        [[3100., 3403., 3706., 4009.],\n",
      "         [3460., 3799., 4138., 4477.],\n",
      "         [3820., 4195., 4570., 4945.],\n",
      "         [4180., 4591., 5002., 5413.]],\n",
      "\n",
      "        [[4540., 4987., 5434., 5881.],\n",
      "         [4900., 5383., 5866., 6349.],\n",
      "         [5260., 5779., 6298., 6817.],\n",
      "         [5620., 6175., 6730., 7285.]],\n",
      "\n",
      "        [[5980., 6571., 7162., 7753.],\n",
      "         [6340., 6967., 7594., 8221.],\n",
      "         [6700., 7363., 8026., 8689.],\n",
      "         [7060., 7759., 8458., 9157.]]])\n"
     ]
    }
   ],
   "source": [
    "torch.manual_seed(0)\n",
    "a = torch.arange(120.).reshape(5, 4, 6)\n",
    "b = torch.arange(24.).reshape(6, 4)\n",
    "# c = (a @ b).to(dev)\n",
    "c = a @ b\n",
    "print(c)"
   ]
  },
  {
   "cell_type": "markdown",
   "id": "d7797877-18a9-41b7-b28f-17d98d4d6a4a",
   "metadata": {},
   "source": [
    "## 5.2 Simple neural network"
   ]
  },
  {
   "cell_type": "code",
   "execution_count": 17,
   "id": "bc827dff-408c-4ce3-9745-67761ddf34cc",
   "metadata": {},
   "outputs": [],
   "source": [
    "import torch\n",
    "import torch.nn as nn"
   ]
  },
  {
   "cell_type": "markdown",
   "id": "b035d1b0-72b7-4b9a-adbf-ad18e5f01d8c",
   "metadata": {},
   "source": [
    "### 5.2.1 My first neural network in PyTorch"
   ]
  },
  {
   "cell_type": "code",
   "execution_count": 18,
   "id": "e2cd34ac-63ba-4514-867f-df86e6101e16",
   "metadata": {},
   "outputs": [
    {
     "name": "stdout",
     "output_type": "stream",
     "text": [
      "tensor([[-2.3555]], grad_fn=<AddmmBackward0>)\n"
     ]
    }
   ],
   "source": [
    "torch.manual_seed(0)\n",
    "input_tensor = torch.Tensor([[2, 3, 6]])\n",
    "\n",
    "# Implement a small neural network with exactly two linear layers\n",
    "model = nn.Sequential(nn.Linear(3,1))\n",
    "output = model(input_tensor)\n",
    "print(output)"
   ]
  },
  {
   "cell_type": "code",
   "execution_count": 19,
   "id": "a62cb02e-8f06-4a87-b539-80d3b2d9af65",
   "metadata": {},
   "outputs": [
    {
     "name": "stdout",
     "output_type": "stream",
     "text": [
      "input_tensor =\n",
      " tensor([[2., 3., 6.]])\n",
      "\n",
      "H0_weights =\n",
      " Parameter containing:\n",
      "tensor([[-0.0043,  0.3097, -0.4752]], requires_grad=True)\n",
      "\n",
      "H0_bias =\n",
      " Parameter containing:\n",
      "tensor([-0.4249], requires_grad=True)\n",
      "\n",
      "Output: tensor([[-2.3555]], grad_fn=<AddBackward0>)\n"
     ]
    }
   ],
   "source": [
    "# weights and biases \n",
    "print(\"input_tensor =\\n\", input_tensor)\n",
    "print(\"\\nH0_weights =\\n\", model[0].weight)\n",
    "print(\"\\nH0_bias =\\n\", model[0].bias)\n",
    "\n",
    "# linear combination of weights and bias\n",
    "print(\"\\nOutput:\", input_tensor @ model[0].weight.t() + model[0].bias)"
   ]
  },
  {
   "cell_type": "markdown",
   "id": "1fd1c375-ddf2-43e5-89a7-3a9e46e3a8d5",
   "metadata": {},
   "source": [
    "![\"First Neural Network\"](images/simple_neural_network_01.png)"
   ]
  },
  {
   "cell_type": "code",
   "execution_count": 20,
   "id": "d362f4b7-b9d4-4f53-b7a2-39fad120dd02",
   "metadata": {},
   "outputs": [
    {
     "data": {
      "text/plain": [
       "4"
      ]
     },
     "execution_count": 20,
     "metadata": {},
     "output_type": "execute_result"
    }
   ],
   "source": [
    "# Number of parameters in the one hidden layer network\n",
    "model[0].weight.numel() + model[0].bias.numel()"
   ]
  },
  {
   "cell_type": "markdown",
   "id": "7eb7e42f-1ae4-4454-9ae2-402e6597beae",
   "metadata": {},
   "source": [
    "### 5.2.2 My second neural network in PyTorch"
   ]
  },
  {
   "cell_type": "code",
   "execution_count": 21,
   "id": "7b5063a8-517e-4e55-9585-0481fd2a839f",
   "metadata": {},
   "outputs": [
    {
     "name": "stdout",
     "output_type": "stream",
     "text": [
      "tensor([[0.2638, 0.7427]], grad_fn=<AddmmBackward0>)\n"
     ]
    }
   ],
   "source": [
    "torch.manual_seed(0)\n",
    "nn2_input = torch.Tensor([[2, 3, 6, 4]])\n",
    "\n",
    "# Implement a small neural network with exactly two linear layers\n",
    "nn2_model = nn.Sequential(\n",
    "    nn.Linear(4,3),\n",
    "    nn.Linear(3,2))\n",
    "nn2_output = nn2_model(nn2_input)\n",
    "print(nn2_output)"
   ]
  },
  {
   "cell_type": "code",
   "execution_count": 22,
   "id": "929d85a0-93de-4d4c-9f11-7ceb6c669c7a",
   "metadata": {},
   "outputs": [
    {
     "data": {
      "text/plain": [
       "tensor([[-3.6215,  1.2123, -1.1977]], grad_fn=<AddBackward0>)"
      ]
     },
     "execution_count": 22,
     "metadata": {},
     "output_type": "execute_result"
    }
   ],
   "source": [
    "# Computing the output of the first layer\n",
    "H0_input = nn2_input\n",
    "H0_output = H0_input @ nn2_model[0].weight.t() + nn2_model[0].bias\n",
    "H0_output"
   ]
  },
  {
   "cell_type": "code",
   "execution_count": 23,
   "id": "1a121003-8e39-4e8e-84c4-9cac3982ee38",
   "metadata": {},
   "outputs": [
    {
     "data": {
      "text/plain": [
       "tensor([[0.2638, 0.7427]], grad_fn=<AddBackward0>)"
      ]
     },
     "execution_count": 23,
     "metadata": {},
     "output_type": "execute_result"
    }
   ],
   "source": [
    "# Computing the output of the 2nd layer\n",
    "H1_input = H0_output\n",
    "H1_output = H1_input @ nn2_model[1].weight.t() + nn2_model[1].bias\n",
    "H1_output"
   ]
  },
  {
   "cell_type": "code",
   "execution_count": 24,
   "id": "6089de4f-9ef1-4712-93f1-ff70297dc441",
   "metadata": {},
   "outputs": [
    {
     "name": "stdout",
     "output_type": "stream",
     "text": [
      "total weights = 18\n",
      "total biases = 5\n",
      "total trainable parameters = 23\n"
     ]
    }
   ],
   "source": [
    "#nn2_output == H1_output\n",
    "total_weights = sum([nn2_model[i].weight.numel() for i in range(len(list(nn2_model.children())))])\n",
    "total_biases = sum([nn2_model[i].bias.numel() for i in range(len(list(nn2_model.children())))])\n",
    "\n",
    "print(\"total weights =\", total_weights)\n",
    "print(\"total biases =\", total_biases)\n",
    "print(\"total trainable parameters =\", total_weights + total_biases)"
   ]
  },
  {
   "cell_type": "markdown",
   "id": "d6c1d83f-f41c-4e73-b667-8d1d554a4e7f",
   "metadata": {},
   "source": [
    "![\"Second Neural Network\"](images/simple_neural_network_02.png)"
   ]
  },
  {
   "cell_type": "markdown",
   "id": "d00ad33d-8653-4bf7-801e-ec71fbfeddb4",
   "metadata": {},
   "source": [
    "## 5.3 Activation function\n",
    "\n",
    "**Linear layers** are not the only layer type we can add to a network. We can use **activation functions** to add non-linearity to a network.\n",
    "\n",
    "This non-linearity grants networks the ability to learn more complex interactions between inputs `X` and targets `y` than only linear relationships. \n",
    "\n",
    " The output will no longer be a linear function of the input. \n",
    " \n",
    " We'll call the output of the last linear layer the **\"pre-activation\" output**, which we'll pass to activation functions to obtain transformed output."
   ]
  },
  {
   "cell_type": "markdown",
   "id": "82bda2fa-c128-4fe3-af0b-f4d6fe872da1",
   "metadata": {},
   "source": [
    "![](images/neural_network_with_activation_function.png)"
   ]
  },
  {
   "cell_type": "markdown",
   "id": "2b608374-a0db-46d9-91ab-ff5b896f28f5",
   "metadata": {},
   "source": [
    "### 5.3.2 Sigmoid function\n",
    "\n",
    "A sigmoid function is a mathematical function having a characteristic \"S\"-shaped curve or sigmoid curve.\n",
    "\n",
    "$$\\sigma(x)=\\dfrac{1}{1+e^{-x}} = \\dfrac{e^{x}}{1+ e^{x}} = 1 - \\sigma(-x)$$\n",
    "\n",
    "Its derivative is\n",
    "\n",
    "$$\\sigma'(x)= \\sigma(x)\\sigma(-x)$$"
   ]
  },
  {
   "cell_type": "code",
   "execution_count": 55,
   "id": "78e751d8-4e63-4ef6-84b3-603b1e160346",
   "metadata": {},
   "outputs": [
    {
     "data": {
      "image/png": "[encoded data removed]",
      "text/plain": [
       "<Figure size 800x600 with 1 Axes>"
      ]
     },
     "metadata": {},
     "output_type": "display_data"
    }
   ],
   "source": [
    "import torch\n",
    "import matplotlib.pyplot as plt\n",
    "\n",
    "# Define the sigmoid function\n",
    "def sigmoid(x):\n",
    "    return 1 / (1 + torch.exp(-x))\n",
    "\n",
    "# Generate input values\n",
    "x = torch.linspace(-10, 10, 100)  # Values from -10 to 10\n",
    "\n",
    "# Calculate sigmoid output values\n",
    "y = sigmoid(x)\n",
    "\n",
    "# gradient of x\n",
    "y_prime = sigmoid(x) * sigmoid(-x)\n",
    "# Create the plot\n",
    "plt.figure(figsize=(8, 6))\n",
    "plt.plot(x, y, label='Sigmoid Function')\n",
    "plt.plot(x, y_prime, label = \"Derivative of Sigmoid Function\")\n",
    "plt.xlabel('Input')\n",
    "plt.ylabel('Sigmoid Output')\n",
    "plt.title('Sigmoid Function')\n",
    "plt.grid(True)\n",
    "plt.legend()\n",
    "plt.show()"
   ]
  },
  {
   "cell_type": "markdown",
   "id": "13f46d1b-a313-44b8-8c51-af9f98f38011",
   "metadata": {},
   "source": [
    "In binary classification task, to predict whether an animal is `1` (a mammal) or `0` (not a mammal), we do the following steps.\n",
    "\n",
    "1) we take the pre-activation output,\n",
    "2) pass it to the sigmoid, and\n",
    "3) obtain a value between 0 and 1,\n",
    "\n",
    "Using the common threshold of 0.5\n",
    "* if output > 0.5, then class label = 1 (a mammal)\n",
    "* if output <= 0.5, then class label = 0 (not a mammal)."
   ]
  },
  {
   "cell_type": "code",
   "execution_count": 26,
   "id": "9eac16d5-c553-4545-a2ae-5c9f370c2c96",
   "metadata": {},
   "outputs": [
    {
     "name": "stdout",
     "output_type": "stream",
     "text": [
      "tensor([[0.9933, 0.9820, 0.1192, 0.5744, 0.2689]])\n"
     ]
    }
   ],
   "source": [
    "# implementing sigmoid in pytorch\n",
    "import torch\n",
    "import torch.nn as nn\n",
    "pre_activation = torch.tensor([[5, 4, -2, .3, -1]])\n",
    "sigmoid = nn.Sigmoid()\n",
    "output = sigmoid(pre_activation)\n",
    "print(output)"
   ]
  },
  {
   "cell_type": "code",
   "execution_count": 27,
   "id": "533de432-4f34-48f1-9fda-ef0099f2516f",
   "metadata": {},
   "outputs": [
    {
     "data": {
      "text/plain": [
       "tensor([[ True,  True, False,  True, False]])"
      ]
     },
     "execution_count": 27,
     "metadata": {},
     "output_type": "execute_result"
    }
   ],
   "source": [
    "output > 0.5"
   ]
  },
  {
   "cell_type": "code",
   "execution_count": 28,
   "id": "601ebfab-3803-4129-b2ed-39e146fd6df9",
   "metadata": {},
   "outputs": [
    {
     "data": {
      "text/plain": [
       "tensor([[1., 1., 0., 1., 0.]])"
      ]
     },
     "execution_count": 28,
     "metadata": {},
     "output_type": "execute_result"
    }
   ],
   "source": [
    "predict = (output > 0.5).float()\n",
    "predict"
   ]
  },
  {
   "cell_type": "markdown",
   "id": "6c689a09-0aaa-49be-b490-84db6954a429",
   "metadata": {},
   "source": [
    "**The sigmoid function as the last step in neural network**\n",
    "    \n",
    "The sigmoid is commonly used as the last step in a neural network when performing binary classification.\n",
    "A sigmoid as the last step in a network of only linear layers is equivalent to a logistic regression using traditional machine learning."
   ]
  },
  {
   "cell_type": "markdown",
   "id": "586faa6e-d872-4ce7-9622-a192de06015e",
   "metadata": {},
   "source": [
    "### 5.3.3  The Softmax activation function\n",
    "\n",
    "We use the `sigmoid` activation function for binary classification. \n",
    "\n",
    "For multiclass classification, involving more than two class labels, we use `softmax`, another popular activation function.\n",
    "\n",
    "The Softmax function is defined as:\n",
    "\n",
    "$$\\text{Softmax}(x_i) = \\dfrac{e^{x_i}}{\\sum{e^{x_j}}}$$\n",
    "\n",
    "Its partial derivative with respect to $x_i$ is\n",
    "$$\\dfrac{\\partial{\\,\\text{Softmax}(x_i)}}{\\partial{x_i}} = \\text{Softmax}(x_i) \\left(1 - \\text{Softmax}(x_i) \\right)$$"
   ]
  },
  {
   "cell_type": "markdown",
   "id": "2226bae0-3f75-4d18-b401-bd7a57eed504",
   "metadata": {},
   "source": [
    "**Example**\n",
    "\n",
    "Suppose that there are $N=3$ classes. \n",
    "\n",
    "1) **Class 0** for bird,\n",
    "2) **Class 1** for mammal, and\n",
    "3) **Class 2** for reptile.\n",
    "\n",
    "So the output has 3 elements which means that Softmax has 3 elements.\n",
    "\n",
    "The output is a probability distribution since element is a probability and the sum of the output is equal to `1`.\n",
    "\n",
    "softmax can be the last layer in `nn.Sequential`.\n",
    "\n",
    "![](images/softmax_example.png)"
   ]
  },
  {
   "cell_type": "code",
   "execution_count": 67,
   "id": "991ac024-d15c-4776-8795-bf0fad8c745a",
   "metadata": {},
   "outputs": [
    {
     "name": "stdout",
     "output_type": "stream",
     "text": [
      "output =  [0.1392 0.842  0.0188]\n",
      "sum of probabilities = 1.0\n"
     ]
    }
   ],
   "source": [
    "import torch\n",
    "import torch.nn as nn\n",
    "\n",
    "# create the preactivation output\n",
    "pre_activation = torch.tensor([[4.3, 6.1, 2.3]])\n",
    "\n",
    "# Apply softmax along the last dimension (dim = -1)\n",
    "probabilities = nn.Softmax(dim = -1)\n",
    "output = probabilities(pre_activation)\n",
    "\n",
    "print(\"output = \", np.round(output.reshape(3,).tolist(), 4))\n",
    "print(\"sum of probabilities =\", float(output.sum()))"
   ]
  },
  {
   "cell_type": "markdown",
   "id": "1db48a98-592c-4001-b502-d133f9bfb627",
   "metadata": {},
   "source": [
    "## 5.4 Forward Pass\n",
    "\n",
    "Generating a prediction  from the neural network models is is called **running a forward pass** through a=the network.\n",
    "\n",
    "When we pass input data through a neural network in the forward direction to generate outputs, or predictions, the input data flows through the model layers. \n",
    "\n",
    "At each layer, computations performed on the data generate intermediate representations, which are passed to each subsequent layer until the final output is generated.\n",
    "\n",
    "The purpose of the forward pass is to propagate input data through the network and produce predictions or outputs based on the model's learned parameters (**weights** and **biases**). \n",
    "\n",
    "This is used for both training and generating new predictions. \n",
    "\n",
    "The final output can be **binary classifications**, **multi-class classifications**, or **numerical predictions** (**regressions**)."
   ]
  },
  {
   "cell_type": "markdown",
   "id": "a4ff00f3-f3d0-4753-b279-ae45c7909da8",
   "metadata": {},
   "source": [
    "### 5.4.1 Binary classification: forward pass\n",
    "\n",
    "* `Class = 1`, the observation observed is a mammal\n",
    "* `Class = 0`, the animal observed is not a mammal"
   ]
  },
  {
   "cell_type": "code",
   "execution_count": 68,
   "id": "2b001897-1198-4e30-9913-f6f2308dc655",
   "metadata": {},
   "outputs": [
    {
     "name": "stdout",
     "output_type": "stream",
     "text": [
      "tensor([[0.3796],\n",
      "        [0.3907],\n",
      "        [0.5054],\n",
      "        [0.3692],\n",
      "        [0.5270]], grad_fn=<SigmoidBackward0>)\n"
     ]
    }
   ],
   "source": [
    "# Create input data of shape (5,6)\n",
    "torch.manual_seed(0)\n",
    "input_data = torch.randn(5,6) # input data has 5 observations and 6 features\n",
    "\n",
    "# Create a binary classification model (bc_model)\n",
    "bc_model = nn.Sequential(\n",
    "    nn.Linear(6, 5), # First linear layer (Hidden)\n",
    "    nn.Linear(5, 1), # Second Linear Layer (Hidden)\n",
    "    nn.Sigmoid() # Sigmoid activation function\n",
    ")\n",
    "\n",
    "# Pass the bc_input data through the bc_model\n",
    "bc_output = bc_model(input_data)\n",
    "\n",
    "print(bc_output)"
   ]
  },
  {
   "cell_type": "code",
   "execution_count": 31,
   "id": "32d24c57-d8f8-41e4-96a0-2697b3051561",
   "metadata": {
    "scrolled": true
   },
   "outputs": [
    {
     "data": {
      "text/plain": [
       "tensor([[False, False,  True, False,  True]])"
      ]
     },
     "execution_count": 31,
     "metadata": {},
     "output_type": "execute_result"
    }
   ],
   "source": [
    "bc_prediction = bc_output > 0.5\n",
    "bc_prediction.t()"
   ]
  },
  {
   "cell_type": "code",
   "execution_count": 32,
   "id": "9aaf3fd7-b3c5-4883-8132-2e5767b9cde4",
   "metadata": {},
   "outputs": [
    {
     "data": {
      "text/plain": [
       "tensor([[0.],\n",
       "        [0.],\n",
       "        [1.],\n",
       "        [0.],\n",
       "        [1.]])"
      ]
     },
     "execution_count": 32,
     "metadata": {},
     "output_type": "execute_result"
    }
   ],
   "source": [
    "bc_prediction.float()"
   ]
  },
  {
   "cell_type": "markdown",
   "id": "03fb8737-44c9-488a-a451-b8bbbff3dc01",
   "metadata": {},
   "source": [
    "### 5.4.2 Multi-class classification: forward pass\n",
    "\n",
    "Suppose we are predicting three classes: `0` for **mammal**, `1` for **bird** or `2` for **reptile**. \n",
    "\n",
    "We specify our model has three classes, setting this value as the last linear layer's output dimension. \n",
    "\n",
    "We use `softmax` instead of `sigmoid`, with `dim = -1` to indicate the five samples have the same last dimension as the last linear layer's output. \n",
    "\n",
    "Let's use the same input as before. \n",
    "\n",
    "*  The output shape is `(5,3)`.\n",
    "*  Each row sums to `1`.\n",
    "*  Value with the highest probability is assigned predicted label in each row."
   ]
  },
  {
   "cell_type": "code",
   "execution_count": 33,
   "id": "38f885eb-20bb-4cc0-8de1-6842d3a80b0c",
   "metadata": {},
   "outputs": [
    {
     "name": "stdout",
     "output_type": "stream",
     "text": [
      "torch.Size([5, 3])\n"
     ]
    }
   ],
   "source": [
    "torch.manual_seed(0)\n",
    "\n",
    "# Specify model has 3 classes\n",
    "n_classes = 3\n",
    "\n",
    "# Create a multi-class classification model (mc_model)\n",
    "mc_model = nn.Sequential(\n",
    "    nn.Linear(6, 5), # First Linear layer (hidden)\n",
    "    nn.Linear(5, n_classes), # Second linear layer (hidden)\n",
    "    nn.Softmax(dim = -1)  # Softmax activation\n",
    ")\n",
    "\n",
    "# Pass the mc_input through the mc_model\n",
    "mc_output = mc_model(input_data)\n",
    "print(mc_output.shape)"
   ]
  },
  {
   "cell_type": "code",
   "execution_count": 34,
   "id": "2de6dd15-fc7e-4c4d-99c4-8332eb6bcb79",
   "metadata": {},
   "outputs": [
    {
     "name": "stdout",
     "output_type": "stream",
     "text": [
      "tensor([[0.3898, 0.3416, 0.2686],\n",
      "        [0.4191, 0.3383, 0.2426],\n",
      "        [0.1878, 0.4429, 0.3692],\n",
      "        [0.2340, 0.3831, 0.3829],\n",
      "        [0.2728, 0.4086, 0.3186]], grad_fn=<SoftmaxBackward0>)\n"
     ]
    }
   ],
   "source": [
    "print(mc_output)"
   ]
  },
  {
   "cell_type": "code",
   "execution_count": 35,
   "id": "ee0cb14d-f289-4313-afdc-0f9466c16647",
   "metadata": {},
   "outputs": [
    {
     "name": "stdout",
     "output_type": "stream",
     "text": [
      "tensor([[0],\n",
      "        [0],\n",
      "        [1],\n",
      "        [1],\n",
      "        [1]])\n"
     ]
    }
   ],
   "source": [
    "mc_prediction = torch.argmax(mc_output, dim=1).view(-1,1)\n",
    "print(mc_prediction)"
   ]
  },
  {
   "cell_type": "markdown",
   "id": "eff773b2-391b-41cc-942f-6a5f8d95c701",
   "metadata": {},
   "source": [
    "### 5.4.3 Regression: forward pass\n",
    "\n",
    "The regressio model is used to predict continuous numerical values. \n",
    "\n",
    "Let's say we use the same data on five animals as before, but this time are predicting weights of animals based on their properties.\n",
    "\n",
    "There is no activation function at the end; and the last linear layer's last dimension returns an output with one feature. \n",
    "\n",
    "Output dimensions are five by one: five continuous values, one for each row."
   ]
  },
  {
   "cell_type": "code",
   "execution_count": 36,
   "id": "fdbc917d-bed2-4b03-a14d-8c4843970c26",
   "metadata": {},
   "outputs": [
    {
     "name": "stdout",
     "output_type": "stream",
     "text": [
      "tensor([[0.3884],\n",
      "        [0.4115],\n",
      "        [0.6828],\n",
      "        [0.8111],\n",
      "        [0.3276]], grad_fn=<AddmmBackward0>)\n"
     ]
    }
   ],
   "source": [
    "# Create regression model\n",
    "torch.manual_seed(1)\n",
    "\n",
    "reg_model = nn.Sequential(\n",
    "    nn.Linear(6, 4), # First linear layer\n",
    "    nn.Linear(4,1) # Second linear layer\n",
    ")\n",
    "\n",
    "# Pass input data through the reg_model\n",
    "reg_output = reg_model(input_data)\n",
    "\n",
    "# Return reg_output\n",
    "print(reg_output)"
   ]
  },
  {
   "cell_type": "markdown",
   "id": "ee2e8d54-5298-455a-9cf2-5779e92687a0",
   "metadata": {},
   "source": [
    "*   For regression problems, where the output can be any real value, a common choice is to use a linear activation function in the output layer. \n",
    "    *   This means that the output is simply the weighted sum of the input without any transformation. \n",
    "    *   This allows the network to predict any value without any restriction.\n",
    " \n",
    "*   However, some regression problems may have a limited range of output values, such as `[0, 1]` or `[-1, 1]`.\n",
    "    *   In such cases, it may be beneficial to use a nonlinear activation function in the output layer that can map the output to the desired range.\n",
    "    *   For example, a `sigmoid` function can map any real value to `[0, 1]`, and a `tanh` function can map any real value to `[-1, 1]`."
   ]
  },
  {
   "cell_type": "markdown",
   "id": "c11dd031-bd66-4e72-b8f6-7e77e3981ba6",
   "metadata": {},
   "source": [
    "*   **Linear**: $f(x) = x$ and its derivative is $f'(x)=1$.\n",
    "\n",
    "<br> \n",
    "\n",
    "*   **Sigmoid**: $\\sigma(x) = \\dfrac{1}{1 + e^{-x}}$ and its derivative is $\\sigma'(x) = \\sigma(x) \\sigma(-x)$.\n",
    "\n",
    "<br>\n",
    "\n",
    "*   **Tanh**: $\\tanh(x) = \\dfrac{e^x - e^{-x}}{e^x+ e^{-x}}$  and its derivative is   $\\tanh'(x) = \\dfrac{4}{(e^x + e^{-x})^2}$."
   ]
  },
  {
   "cell_type": "markdown",
   "id": "94f7498d-f403-47cf-a0e0-357c36b7ee03",
   "metadata": {},
   "source": [
    "### 5.4.4 Back Propagation\n",
    "\n",
    "A **backward pass**, or **backpropagation**, is the process by which layer weights and biases are updated during training. \n",
    "\n",
    "All this is part of something called a **\"training loop\"**. \n",
    "\n",
    "This involves propagating data forward, comparing outputs to true values, then propagating backwards to improve each layer's weights and biases using some handy math.\n",
    "\n",
    "We repeat several times until the model is tuned with meaningful weights and biases. \n",
    "\n",
    "In short, during training, the backward pass is the complementary step to the forward pass."
   ]
  },
  {
   "cell_type": "markdown",
   "id": "dc2a233a-bddc-490c-8b40-05b3ffb50ca7",
   "metadata": {},
   "source": [
    "## 5.5 Loss functions to evaluate model predictions\n",
    "\n",
    "* Created neural networks that\n",
    "    * take inputs and\n",
    "    * return predictions as outputs. \n",
    "\n",
    "<br>\n",
    "\n",
    "*  We'll now assess the differences between actual values and those predicted by the network using the loss function\n",
    "    * tells us how good our model is at making predictions during training. \n",
    "    * input of the loss function:  a model prediction, `y-hat`, and true label, or ground truth, `y`\n",
    "    * output a floating number.\n",
    " \n",
    "<br>\n",
    "\n",
    "* Our goal is to minimize the loss."
   ]
  },
  {
   "cell_type": "markdown",
   "id": "cd6c3dfd-bc17-4d30-a74b-a1a0fe987abb",
   "metadata": {},
   "source": [
    "### 5.5.1  Hot-one encoding to transform the values of the true label, `y`\n",
    "\n",
    "If the number of  classes is `num_classes = 3`, then\n",
    "1)  `[1, 0, 0]`, if `y = 0`, or\n",
    "2)  `[0, 1, 0]`, if `y = 1`, or\n",
    "2)  `[0, 0, 1]`, if `y = 2`."
   ]
  },
  {
   "cell_type": "code",
   "execution_count": 70,
   "id": "c2fcda2c-a3d9-4d51-ae3f-8eca27e8c30b",
   "metadata": {},
   "outputs": [
    {
     "name": "stdout",
     "output_type": "stream",
     "text": [
      "one-hot encoding for y=0 : tensor([1, 0, 0])\n",
      "one-hot encoding for y=1 : tensor([0, 1, 0])\n",
      "one-hot encoding for y=2 : tensor([0, 0, 1])\n"
     ]
    }
   ],
   "source": [
    "import torch.nn.functional as F\n",
    "\n",
    "print(\"one-hot encoding for y=0 :\", F.one_hot(torch.tensor(0), num_classes = 3))\n",
    "print(\"one-hot encoding for y=1 :\", F.one_hot(torch.tensor(1), num_classes = 3))\n",
    "print(\"one-hot encoding for y=2 :\", F.one_hot(torch.tensor(2), num_classes = 3))"
   ]
  },
  {
   "cell_type": "markdown",
   "id": "3b44cc4a-f4dc-49b7-990d-be0d9dcd53aa",
   "metadata": {},
   "source": [
    "### 5.5.2 Parameters and output for the loss function\n",
    "\n",
    "The parameters of the loss function are:\n",
    "\n",
    "* `scores`: model prediction before the final softmax activation function\n",
    "* `one_hot_target`: one-hot encoded ground truth label\n",
    "\n",
    "Its output is `loss` a single `float`."
   ]
  },
  {
   "cell_type": "code",
   "execution_count": 71,
   "id": "c5abee34-6117-43f6-acc1-c0ce8876bc3a",
   "metadata": {},
   "outputs": [
    {
     "name": "stdout",
     "output_type": "stream",
     "text": [
      "tensor(0.0619, dtype=torch.float64)\n"
     ]
    }
   ],
   "source": [
    "# Calculating cross entropy loss\n",
    "import torch\n",
    "import torch.nn as nn\n",
    "import torch.nn.functional as F\n",
    "\n",
    "y = [1]\n",
    "scores = torch.tensor([[0.1, 6.0, -2.0, 3.2]])\n",
    "\n",
    "# Create a one-hot encoded vector of the label y\n",
    "one_hot_label = F.one_hot(torch.tensor(y), scores.shape[1])\n",
    "\n",
    "# Create the cross entropy loss function\n",
    "criterion = nn.CrossEntropyLoss()\n",
    "\n",
    "# Calculate the cross entropy loss\n",
    "loss = criterion(scores.double(), one_hot_label.double())\n",
    "print(loss)"
   ]
  },
  {
   "cell_type": "markdown",
   "id": "c9ccab0c-e323-4810-99f5-fc643c528401",
   "metadata": {},
   "source": [
    "## 5.6 Updating the model's parameters\n",
    "\n",
    "A model is mispredicting when loss is high, and predicting correctly when loss is low.\n",
    "\n",
    "So we have to minimize the loss by finding the derivative of the loss function.\n",
    "\n",
    "![](images/nn2.png)\n",
    "\n",
    "<br>\n",
    "\n",
    "<br>"
   ]
  },
  {
   "cell_type": "markdown",
   "id": "18508886-99db-47e6-9822-7495553a5b44",
   "metadata": {},
   "source": [
    "### 5.6.1  Gradients of the weights and biases\n",
    "\n",
    "Since **loss** is dependent on the model's parameters: **weights** and **biases**, we can minimize the loss by updating the values of these parameters using their respective gradients.\n",
    "\n",
    "$$\\dfrac{\\partial{\\text{loss}}}{\\partial{w}} = \\left(\\dfrac{\\partial{\\text{loss}}}{\\partial{\\text{y\\_hat}}}\\right)\\left( \\dfrac{\\partial{\\text{y\\_hat}}}{\\partial{\\text{z}}}\\right)\\left(\\dfrac{\\partial{\\text{z}}}{\\partial{\\text{w}}}\\right) = \\left(\\dfrac{\\partial{\\text{loss}}}{\\partial{\\text{y\\_hat}}}\\right)\\left(\\dfrac{\\partial{\\text{y\\_hat}}}{\\partial{\\text{z}}}\\right)\\left( X \\right)$$\n",
    "\n",
    "$$\\dfrac{\\partial{\\text{loss}}}{\\partial{b}} = \\left(\\dfrac{\\partial{\\text{loss}}}{\\partial{\\text{y\\_hat}}}\\right)\\left( \\dfrac{\\partial{\\text{y\\_hat}}}{\\partial{\\text{z}}}\\right)\\left(\\dfrac{\\partial{\\text{z}}}{\\partial{\\text{w}}}\\right) = \\left(\\dfrac{\\partial{\\text{loss}}}{\\partial{\\text{y\\_hat}}}\\right)\\left(\\dfrac{\\partial{\\text{y\\_hat}}}{\\partial{\\text{z}}}\\right)$$\n",
    "\n",
    "\n",
    "*  *Updating the weight* : `weight = weight - lr * weight_grad`\n",
    "*  *Updating thew bias* :   `bias = bias - lr * bias_grad`\n",
    "\n",
    "\n",
    " where\n",
    " * $\\text{weight\\_grad} = \\dfrac{\\partial\\,{\\text{loss}}}{\\partial{w}}$\n",
    " * $\\text{bias\\_grad} = \\dfrac{\\partial\\,{\\text{loss}}}{\\partial{b}}$\n",
    " * `lr` is the **learning rate**.\n",
    "\n",
    " In deep learning the learning  rate is a hyperparameter that determines the step size at which a neural network's model parameters are updated during training. \n",
    "It controls how much the model learns from each new data point.\n"
   ]
  },
  {
   "cell_type": "markdown",
   "id": "8eb71094-6f3f-4ea1-89cc-3e31ffee1441",
   "metadata": {},
   "source": [
    "### 5.6.2 Loss functions for classification and regression\n",
    "\n",
    "**Binary cross entropy loss function (BCE)** for binary classification problem. In PyTorch we use (`nn.BCELoss()`)\n",
    "\n",
    "*  it measures the difference between the predicted probabilities, `y_hat` and the true labels `y`. \n",
    "\n",
    "*  The formula for binary cross entropy loss is:\n",
    "    \n",
    "    $$L(y,p) = - [y \\cdot \\log{p} + (1-y)\\log(1-p)]$$\n",
    "    \n",
    "where $L(y, p)$ is the binary cross-entropy loss, \n",
    "\n",
    "$\n",
    "$ y is the true binary label $($0 or$ $1, and \n",
    "\n",
    "$\r",
    "$\n",
    "p is the predicted probability that the instance belongs to clas$s$ with  `p = y_hat` if `y_hat > 0.5` and `1-p = y_hat` if `y_hat <= 0.5`.    \n",
    "    1\n",
    "Its derivative with respect to $p$ is\n",
    "\n",
    "$$\\frac{dL}{dp} = -\\dfrac{y}{p} + \\dfrac{1 - y}{1 - p}$$\n",
    "\n",
    "\n",
    "The **BCE** is usually combined with **sigmoid** activation function.e:.\n",
    "\n"
   ]
  },
  {
   "cell_type": "markdown",
   "id": "b65039df-2226-466b-9f35-a39ed4ad6bb8",
   "metadata": {},
   "source": [
    "In PyTorch, the **cross-entropy loss function** is commonly used for multi-class classification problems and is typically referred to as \"CrossEntropyLoss.\" (`nn.CrossEntropyLoss()`)\n",
    "\n",
    "This loss function combines the `softmax function` (to convert raw scores into class probabilities) and the negative log-likelihood loss.\n",
    "\n",
    "\n",
    "The formula forthe  **cross-entropy loss function**  in one observation is given by:\n",
    "\n",
    "$$L(y, p) = - \\sum_{i}^{n}  y_i  \\cdot \\log{p_i}$$\n",
    "\n",
    "where $L(y, p)$ is the cross-entropy loss function,\n",
    "\n",
    "$n$ is the number of classes\n",
    "\n",
    "$y$  is the true multiclass label, which is a vector of one-hot encoded labels, where only the true class is $1$, and all other entries are $0$.\n",
    "\n",
    "$p$  represents the predicted probability distribution over classes.\n",
    "\n",
    "The `nn.CrossEntropyLoss` function automatically applies the **softmax** function to the output tensor and computes the **cross-entropy loss** between the predicted class probabilities and the true labels."
   ]
  },
  {
   "cell_type": "markdown",
   "id": "f7cf047a-b56b-4826-af5e-2d54c82d4a70",
   "metadata": {},
   "source": [
    "In PyTorch, for regression tasks where we want to predict continuous values rather than class labels, we typically use **mean squared error (MSE)** or **mean absolute error (MAE) loss functions**. \n",
    "\n",
    "*   **Mean Squared Error (MSE) Loss (L2 Loss)**:  `nn.MSELoss()`.\n",
    "\n",
    "    *   This loss function measures the average of the squared differences between the predicted values and the true target values. \n",
    "\n",
    "*   **Mean Absolute Error (MAE) Loss (L1 Loss)**: ` nn.L1Loss()`.\r\n",
    "    *    \r\n",
    "This loss function measures the average of the absolute differences between the predicted values and the true target value\n",
    "    *    . It is also suitable for regression tasks, particularly iweou want your model to be less sensitive to outliers."
   ]
  },
  {
   "cell_type": "code",
   "execution_count": 79,
   "id": "af74e9f1-2484-49cb-a621-a65696acea5a",
   "metadata": {},
   "outputs": [],
   "source": [
    "# torch.manual_seed(12345)\n",
    "input_tensor = torch.randn(1,9)\n",
    "target = torch.tensor([[1., 0.]])\n",
    "\n",
    "model = nn.Sequential(\n",
    "    nn.Linear(9,2),\n",
    "    nn.Sigmoid() # Sigmoid activation function                 \n",
    ")\n",
    "\n",
    "prediction = model(input_tensor)\n",
    "\n",
    "criterion = nn.BCELoss()\n",
    "\n",
    "# Calculate the loss\n",
    "loss = criterion(prediction, target)\n",
    "\n",
    "# Compute the gradients of the loss\n",
    "loss.backward()\n",
    "\n",
    "# Display gradients of the weight and bias tensors in order\n",
    "weight0 = model[0].weight\n",
    "weight0_grads = model[0].weight.grad\n",
    "bias0 = model[0].bias\n",
    "bias0_grads = model[0].bias.grad"
   ]
  },
  {
   "cell_type": "code",
   "execution_count": 80,
   "id": "6dfa0f4c-9c0c-4cbe-bc68-86886d4792b6",
   "metadata": {},
   "outputs": [
    {
     "name": "stdout",
     "output_type": "stream",
     "text": [
      "weight0 =  Parameter containing:\n",
      "tensor([[ 0.0149, -0.2350, -0.1835, -0.1942,  0.1139, -0.1986, -0.0073,  0.0140,\n",
      "          0.2149],\n",
      "        [-0.2520, -0.2288, -0.1936,  0.2333, -0.1198,  0.2812,  0.1205,  0.0422,\n",
      "         -0.0025]], requires_grad=True)\n",
      "\n",
      "weight0_grads = \n",
      " tensor([[ 0.3549, -0.1187, -0.1154, -0.5068, -0.0791, -0.1292,  0.1526, -0.0933,\n",
      "         -0.2466],\n",
      "        [-0.3767,  0.1260,  0.1224,  0.5378,  0.0840,  0.1371, -0.1620,  0.0991,\n",
      "          0.2618]])\n"
     ]
    }
   ],
   "source": [
    "print(\"weight0 = \", weight0) \n",
    "print(\"\\nweight0_grads = \\n\", weight0_grads) "
   ]
  },
  {
   "cell_type": "code",
   "execution_count": 81,
   "id": "5a8e344a-762d-49ac-a30a-026a182fc468",
   "metadata": {},
   "outputs": [
    {
     "name": "stdout",
     "output_type": "stream",
     "text": [
      "bias0 =  Parameter containing:\n",
      "tensor([-0.0659,  0.0418], requires_grad=True)\n",
      "\n",
      "bias0_grads = \n",
      " tensor([-0.3042,  0.3229])\n"
     ]
    }
   ],
   "source": [
    "print(\"bias0 = \", bias0) \n",
    "print(\"\\nbias0_grads = \\n\", bias0_grads) "
   ]
  },
  {
   "cell_type": "code",
   "execution_count": 82,
   "id": "f8878f91-c829-453f-9df7-903230b495ea",
   "metadata": {},
   "outputs": [
    {
     "name": "stdout",
     "output_type": "stream",
     "text": [
      "weight0 = \n",
      " tensor([[ 0.0145, -0.2349, -0.1834, -0.1937,  0.1140, -0.1985, -0.0074,  0.0141,\n",
      "          0.2151],\n",
      "        [-0.2516, -0.2290, -0.1937,  0.2328, -0.1199,  0.2810,  0.1207,  0.0421,\n",
      "         -0.0027]], grad_fn=<SubBackward0>)\n"
     ]
    }
   ],
   "source": [
    "# Updating the weights manually\n",
    "lr = torch.tensor([0.001])\n",
    "print(\"weight0 = \\n\", weight0 - lr * weight0_grads)"
   ]
  },
  {
   "cell_type": "markdown",
   "id": "56c61be5-f163-419b-a88f-7f92e0b20a3f",
   "metadata": {},
   "source": [
    "### 5.6.3 The need for an optimizer\n",
    "\n",
    "*  Some functions have one minimum and one only, called the \"global\" minimum. These functions are \"convex\". \n",
    "*  Some \"non-convex\" functions have more than one \"local\" minimum.\n",
    "\n",
    "![](images/convex_and_non_convex_functions.png)\n",
    "\n",
    "At a local minimum, the function value is lowest compared to nearby points, but points further away may be even lower. \n",
    "\n",
    "When minimizing loss functions, our goal is to find the global minimum of the non-convex function, here, when x is approximately one.\n",
    "\n",
    "Loss functions used in deep learning are not convex! T\n",
    "\n",
    "To find global minima of non-convex functions, we use a mechanism called \"gradient descent\" which is called \"optimizers\" in PyTorch. "
   ]
  },
  {
   "cell_type": "markdown",
   "id": "49ca198a-ec33-40e5-a75a-6bdee97ed593",
   "metadata": {},
   "source": [
    "**The need for momentum**\n",
    "\n",
    "![](images/momentum_low.png)\n",
    "\n",
    "![](images/momentum_high.png)"
   ]
  },
  {
   "cell_type": "code",
   "execution_count": 83,
   "id": "3f10ce24-4df0-4eff-b0f9-e238811ee23a",
   "metadata": {},
   "outputs": [
    {
     "name": "stdout",
     "output_type": "stream",
     "text": [
      "first prediction =  tensor([[0.3548, 0.5141]], grad_fn=<SigmoidBackward0>)\n",
      "final prediction =  tensor([[0.7355, 0.2253]], grad_fn=<SigmoidBackward0>)\n"
     ]
    }
   ],
   "source": [
    "import torch.optim as optim\n",
    "# torch.manual_seed(908) # for 01\n",
    "# torch.manual_seed(1) # for 11\n",
    "torch.manual_seed(2)  # for 10\n",
    "#torch.manual_seed(3)  # for 11\n",
    "#torch.manual_seed(1000)  # for 00\n",
    "\n",
    "input_tensor = torch.randn(1,9)\n",
    "target = torch.tensor([[1., 0.]])\n",
    "\n",
    "model = nn.Sequential(\n",
    "    nn.Linear(9,2),\n",
    "    nn.Sigmoid() # Sigmoid activation function                 \n",
    ")\n",
    "\n",
    "first_prediction = model(input_tensor)\n",
    "\n",
    "criterion = nn.BCELoss()\n",
    "\n",
    "# Calculate the loss\n",
    "loss = criterion(first_prediction, target)\n",
    "\n",
    "# Create the optimizer\n",
    "optimizer = optim.SGD(model.parameters(), lr=1, momentum=1)\n",
    "\n",
    "# Compute the gradients of the loss\n",
    "#loss.backward(retain_graph=True)\n",
    "loss.backward()\n",
    "\n",
    "# Update the model's parameters using the optimizer\n",
    "optimizer.step()\n",
    "\n",
    "\n",
    "final_prediction = model(input_tensor)\n",
    "\n",
    "print(\"first prediction = \", first_prediction)\n",
    "print(\"final prediction = \", final_prediction)"
   ]
  },
  {
   "cell_type": "markdown",
   "id": "54b786b5-4258-4119-8a14-a4910c08a1fa",
   "metadata": {},
   "source": [
    "## 5.7 Using the MSELoss\n",
    "\n",
    "We cannot use cross-entropy loss for regression problems. The mean squared error loss (MSELoss) is a common loss function for regression problems.\n",
    "\n",
    "```\n",
    "def mean_squared_loss(prediction, target):\n",
    "   return np.mean((prediction - target)**2)\n",
    "```\n",
    "\n",
    "\n",
    "In PyTorch,\n",
    "\n",
    "```\n",
    "criterion = nn.MSELoss()\n",
    "\n",
    "# Prediction and target are float tensors\n",
    "loss = criterion(prediction, target)\n",
    "```\n",
    "\n",
    "This loss is used for regression problems (e.g., when trying to fit a linear regression model).\r\n",
    "\n",
    "                                                                                                                        "
   ]
  },
  {
   "cell_type": "code",
   "execution_count": 42,
   "id": "6e1fdf0e-1d5e-4b74-a525-82e1267180cb",
   "metadata": {},
   "outputs": [
    {
     "name": "stdout",
     "output_type": "stream",
     "text": [
      "tensor(81.)\n"
     ]
    }
   ],
   "source": [
    "import numpy as np\n",
    "\n",
    "y_hat = np.array(10)\n",
    "y = np.array(1)\n",
    "\n",
    "# Calculate the MSELoss using NumPy\n",
    "mse_numpy = np.mean((y_hat - y)**2)\n",
    "\n",
    "# Create the MSELoss function\n",
    "criterion = nn.MSELoss()\n",
    "\n",
    "# Calculate the MSELoss using the created loss function\n",
    "mse_pytorch = criterion(torch.tensor(y_hat, dtype=torch.float32), \n",
    "                        torch.tensor(y, dtype=torch.float32))\n",
    "print(mse_pytorch)"
   ]
  },
  {
   "cell_type": "markdown",
   "id": "26db9a76-01c8-4325-b65c-5d9fc00ae83b",
   "metadata": {},
   "source": [
    "## 5.8 Writing a training loop\n",
    "\n",
    "In scikit-learn, the whole training loop is contained in the `.fit()` method. \n",
    "\n",
    "In PyTorch, however, we have to implement the loop manually.arameter"
   ]
  },
  {
   "cell_type": "markdown",
   "id": "73fe7b59-fa59-4cfa-8117-a020d6d0214f",
   "metadata": {},
   "source": [
    "### 5.8.1 Training a neural network\n",
    "\n",
    "1)  Create a model\n",
    "    \n",
    "2)  Choose a loss function\n",
    "\n",
    "3)  Create a dataset\n",
    "\n",
    "4)  Define an optimizer\n",
    "\n",
    "5)  Run a training loop, where for each sample of the dataset, we repeat:\n",
    "\n",
    "    *   Calculating loss (forward pass)\n",
    "     \n",
    "    *   Calculating local gradients\n",
    "     \n",
    "    *   Updating model parameters"
   ]
  },
  {
   "cell_type": "code",
   "execution_count": 43,
   "id": "cbb41b3d-1e43-4dad-ab51-24f2eb39c02f",
   "metadata": {},
   "outputs": [],
   "source": [
    "import pandas as pd\n",
    "import torch \n",
    "import torch.nn as nn\n",
    "import torch.optim as optim\n",
    "from torch.utils.data import DataLoader, TensorDataset"
   ]
  },
  {
   "cell_type": "markdown",
   "id": "b1e6ff71-3d4c-47d7-b2cd-9bb2c9f32ee0",
   "metadata": {},
   "source": [
    "### 5.8.2 Before the training loop"
   ]
  },
  {
   "cell_type": "markdown",
   "id": "693ddcf0-ddf4-4d11-84dc-f8cbf0d4f14d",
   "metadata": {},
   "source": [
    "*   experience_level: The experience level in the job during the year with the following possible values: **EN** Entry-level / Junior, **MI** Mid-level / Intermediate,  **SE** Senior-level / Expert, **EX** Executive-level / Director.\n",
    "*   employment_type: The type of employement for the role: **PT** Part-time, *FT** Full-time,  **CT** Contract, **FL** Freelance.\n",
    "*   company_size: The average number of people that worked for the company during the year: **S** less than 50 employees (small), **M** 50 to 250 employees (medium), **L** more than 250 employees (large)."
   ]
  },
  {
   "cell_type": "code",
   "execution_count": 44,
   "id": "cf6d28b1-6734-45e2-9dc6-3618e1ca9a99",
   "metadata": {},
   "outputs": [
    {
     "data": {
      "text/plain": [
       "(607, 4)"
      ]
     },
     "execution_count": 44,
     "metadata": {},
     "output_type": "execute_result"
    }
   ],
   "source": [
    "import pandas as pd\n",
    "salaries = pd.read_csv(\"datasets/ds_salaries.csv\")\n",
    "target_df = salaries[\"salary_in_usd\"]\n",
    "features_df = salaries[[\"experience_level\", \"employment_type\", \"remote_ratio\", \"company_size\"]]\n",
    "features_df.loc[:, \"company_size\"] = features_df[\"company_size\"].astype(\"category\").cat.codes\n",
    "features_df.loc[:, \"experience_level\"] = features_df[\"experience_level\"].astype(\"category\").cat.codes\n",
    "features_df.loc[:, \"employment_type\"] = features_df[\"employment_type\"].astype(\"category\").cat.codes\n",
    "features = features_df.to_numpy(dtype='float32')\n",
    "features.shape"
   ]
  },
  {
   "cell_type": "code",
   "execution_count": 45,
   "id": "7e8925ed-0f62-4db1-b565-51dc8c7555bd",
   "metadata": {},
   "outputs": [],
   "source": [
    "import torch\n",
    "import numpy as np\n",
    "import pandas as pd\n",
    "import torch.nn as nn\n",
    "import torch.optim as optim\n",
    "from torch.utils.data import DataLoader, TensorDataset"
   ]
  },
  {
   "cell_type": "code",
   "execution_count": 46,
   "id": "206d5ab6-dc71-40c9-acf4-6b48717d459d",
   "metadata": {},
   "outputs": [
    {
     "data": {
      "text/plain": [
       "(607, 1)"
      ]
     },
     "execution_count": 46,
     "metadata": {},
     "output_type": "execute_result"
    }
   ],
   "source": [
    "from sklearn.preprocessing import MinMaxScaler\n",
    "\n",
    "scaler = MinMaxScaler()\n",
    "target = scaler.fit_transform(target_df.values.reshape(-1, 1))\n",
    "target = target.astype(np.float32)\n",
    "target.shape"
   ]
  },
  {
   "cell_type": "code",
   "execution_count": 47,
   "id": "6865529e-9908-40b8-94bf-a85680007886",
   "metadata": {},
   "outputs": [],
   "source": [
    "# Create the dataset and the dataloader\n",
    "dataset = TensorDataset(torch.tensor(features), torch.tensor(target))\n",
    "dataloader = DataLoader(dataset, batch_size=4, shuffle=True)\n",
    "\n",
    "# Create the model\n",
    "model = nn.Sequential(nn.Linear(4, 2),                       \n",
    "                      nn.Linear(2, 1))\n",
    "\n",
    "# Create the loss and optimizer\n",
    "criterion = nn.MSELoss()\n",
    "optimizer = optim.SGD(model.parameters(), lr=0.001)"
   ]
  },
  {
   "cell_type": "markdown",
   "id": "eedf792a-ff5b-4db8-9a33-2c3284d98bb3",
   "metadata": {},
   "source": [
    "### 5,8,3 The training loop "
   ]
  },
  {
   "cell_type": "code",
   "execution_count": 48,
   "id": "daf00b91-dfb3-4c4c-b043-aedce57aba11",
   "metadata": {},
   "outputs": [],
   "source": [
    "def show_results(model, dataloader):\n",
    "    model.eval()\n",
    "    total_loss = 0\n",
    "    total_samples = 0\n",
    "    \n",
    "    with torch.no_grad():\n",
    "        for data in dataloader:\n",
    "            feature, target = data\n",
    "            pred = model(feature)\n",
    "            loss = criterion(pred, target)\n",
    "            total_loss += loss.item() * feature.size(0)\n",
    "            total_samples += feature.size(0)\n",
    "            \n",
    "            # Print ground truth and predicted salaries\n",
    "            for i in range(len(target)):\n",
    "                print(\"Ground truth salary: {:.3f}. Predicted salary: {:.3f}\".format(target[i].item(), pred[i].item()))\n",
    "    \n",
    "    average_loss = total_loss / total_samples\n",
    "    print(\"Average Loss: {:.4f}\".format(average_loss))"
   ]
  },
  {
   "cell_type": "code",
   "execution_count": 49,
   "id": "21d90dc5-4496-4659-9f97-a81f76af58a7",
   "metadata": {},
   "outputs": [
    {
     "name": "stdout",
     "output_type": "stream",
     "text": [
      "Ground truth salary: 0.148. Predicted salary: 0.088\n",
      "Ground truth salary: 0.253. Predicted salary: 0.208\n",
      "Ground truth salary: 0.280. Predicted salary: 0.153\n",
      "Ground truth salary: 0.205. Predicted salary: 0.154\n",
      "Ground truth salary: 0.179. Predicted salary: 0.153\n",
      "Ground truth salary: 0.213. Predicted salary: 0.165\n",
      "Ground truth salary: 0.093. Predicted salary: 0.175\n",
      "Ground truth salary: 0.213. Predicted salary: 0.208\n",
      "Ground truth salary: 0.288. Predicted salary: 0.208\n",
      "Ground truth salary: 0.096. Predicted salary: 0.262\n",
      "Ground truth salary: 0.145. Predicted salary: 0.175\n",
      "Ground truth salary: 0.330. Predicted salary: 0.153\n",
      "Ground truth salary: 0.224. Predicted salary: 0.208\n",
      "Ground truth salary: 0.167. Predicted salary: 0.185\n",
      "Ground truth salary: 0.364. Predicted salary: 0.229\n",
      "Ground truth salary: 0.087. Predicted salary: 0.219\n",
      "Ground truth salary: 0.104. Predicted salary: 0.133\n",
      "Ground truth salary: 0.339. Predicted salary: 0.251\n",
      "Ground truth salary: 0.330. Predicted salary: 0.153\n",
      "Ground truth salary: 0.117. Predicted salary: 0.197\n",
      "Ground truth salary: 0.132. Predicted salary: 0.208\n",
      "Ground truth salary: 0.208. Predicted salary: 0.207\n",
      "Ground truth salary: 0.305. Predicted salary: 0.208\n",
      "Ground truth salary: 0.149. Predicted salary: 0.176\n",
      "Ground truth salary: 0.168. Predicted salary: 0.231\n",
      "Ground truth salary: 0.121. Predicted salary: 0.197\n",
      "Ground truth salary: 0.257. Predicted salary: 0.208\n",
      "Ground truth salary: 0.313. Predicted salary: 0.231\n",
      "Ground truth salary: 0.253. Predicted salary: 0.121\n",
      "Ground truth salary: 0.263. Predicted salary: 0.208\n",
      "Ground truth salary: 0.022. Predicted salary: 0.088\n",
      "Ground truth salary: 0.280. Predicted salary: 0.208\n",
      "Ground truth salary: 0.129. Predicted salary: 0.153\n",
      "Ground truth salary: 0.121. Predicted salary: 0.153\n",
      "Ground truth salary: 0.129. Predicted salary: 0.197\n",
      "Ground truth salary: 0.102. Predicted salary: 0.220\n",
      "Ground truth salary: 0.192. Predicted salary: 0.251\n",
      "Ground truth salary: 0.380. Predicted salary: 0.208\n",
      "Ground truth salary: 0.168. Predicted salary: 0.153\n",
      "Ground truth salary: 0.347. Predicted salary: 0.208\n",
      "Ground truth salary: 0.404. Predicted salary: 0.208\n",
      "Ground truth salary: 0.275. Predicted salary: 0.208\n",
      "Ground truth salary: 0.288. Predicted salary: 0.208\n",
      "Ground truth salary: 0.205. Predicted salary: 0.252\n",
      "Ground truth salary: 0.178. Predicted salary: 0.208\n",
      "Ground truth salary: 0.183. Predicted salary: 0.153\n",
      "Ground truth salary: 0.221. Predicted salary: 0.229\n",
      "Ground truth salary: 0.025. Predicted salary: 0.242\n",
      "Ground truth salary: 0.217. Predicted salary: 0.208\n",
      "Ground truth salary: 0.146. Predicted salary: 0.153\n",
      "Ground truth salary: 0.144. Predicted salary: 0.185\n",
      "Ground truth salary: 0.227. Predicted salary: 0.208\n",
      "Ground truth salary: 0.246. Predicted salary: 0.176\n",
      "Ground truth salary: 0.196. Predicted salary: 0.231\n",
      "Ground truth salary: 0.116. Predicted salary: 0.175\n",
      "Ground truth salary: 0.056. Predicted salary: 0.175\n",
      "Ground truth salary: 0.272. Predicted salary: 0.208\n",
      "Ground truth salary: 0.186. Predicted salary: 0.231\n",
      "Ground truth salary: 0.221. Predicted salary: 0.153\n",
      "Ground truth salary: 0.424. Predicted salary: 0.231\n",
      "Ground truth salary: 0.092. Predicted salary: 0.111\n",
      "Ground truth salary: 0.305. Predicted salary: 0.251\n",
      "Ground truth salary: 0.162. Predicted salary: 0.230\n",
      "Ground truth salary: 0.179. Predicted salary: 0.132\n",
      "Ground truth salary: 0.124. Predicted salary: 0.252\n",
      "Ground truth salary: 0.131. Predicted salary: 0.155\n",
      "Ground truth salary: 0.247. Predicted salary: 0.208\n",
      "Ground truth salary: 0.061. Predicted salary: 0.176\n",
      "Ground truth salary: 0.126. Predicted salary: 0.176\n",
      "Ground truth salary: 0.280. Predicted salary: 0.208\n",
      "Ground truth salary: 0.268. Predicted salary: 0.208\n",
      "Ground truth salary: 0.211. Predicted salary: 0.208\n",
      "Ground truth salary: 0.149. Predicted salary: 0.219\n",
      "Ground truth salary: 0.129. Predicted salary: 0.142\n",
      "Ground truth salary: 0.079. Predicted salary: 0.111\n",
      "Ground truth salary: 0.251. Predicted salary: 0.197\n",
      "Ground truth salary: 0.230. Predicted salary: 0.185\n",
      "Ground truth salary: 0.221. Predicted salary: 0.143\n",
      "Ground truth salary: 0.225. Predicted salary: 0.208\n",
      "Ground truth salary: 0.148. Predicted salary: 0.274\n",
      "Ground truth salary: 0.163. Predicted salary: 0.207\n",
      "Ground truth salary: 0.052. Predicted salary: 0.219\n",
      "Ground truth salary: 0.357. Predicted salary: 0.143\n",
      "Ground truth salary: 0.089. Predicted salary: 0.176\n",
      "Ground truth salary: 0.127. Predicted salary: 0.176\n",
      "Ground truth salary: 0.330. Predicted salary: 0.185\n",
      "Ground truth salary: 0.201. Predicted salary: 0.208\n",
      "Ground truth salary: 0.178. Predicted salary: 0.208\n",
      "Ground truth salary: 0.156. Predicted salary: 0.207\n",
      "Ground truth salary: 0.129. Predicted salary: 0.208\n",
      "Ground truth salary: 0.263. Predicted salary: 0.229\n",
      "Ground truth salary: 0.217. Predicted salary: 0.208\n",
      "Ground truth salary: 0.146. Predicted salary: 0.208\n",
      "Ground truth salary: 0.221. Predicted salary: 0.176\n",
      "Ground truth salary: 0.297. Predicted salary: 0.208\n",
      "Ground truth salary: 0.109. Predicted salary: 0.176\n",
      "Ground truth salary: 0.078. Predicted salary: 0.177\n",
      "Ground truth salary: 0.341. Predicted salary: 0.219\n",
      "Ground truth salary: 0.389. Predicted salary: 0.121\n",
      "Ground truth salary: 0.083. Predicted salary: 0.111\n",
      "Ground truth salary: 0.068. Predicted salary: 0.219\n",
      "Ground truth salary: 0.078. Predicted salary: 0.176\n",
      "Ground truth salary: 0.292. Predicted salary: 0.185\n",
      "Ground truth salary: 0.173. Predicted salary: 0.153\n",
      "Ground truth salary: 0.037. Predicted salary: 0.133\n",
      "Ground truth salary: 0.223. Predicted salary: 0.251\n",
      "Ground truth salary: 0.160. Predicted salary: 0.219\n",
      "Ground truth salary: 0.246. Predicted salary: 0.207\n",
      "Ground truth salary: 0.213. Predicted salary: 0.208\n",
      "Ground truth salary: 0.138. Predicted salary: 0.187\n",
      "Ground truth salary: 0.066. Predicted salary: 0.110\n",
      "Ground truth salary: 0.144. Predicted salary: 0.175\n",
      "Ground truth salary: 0.184. Predicted salary: 0.208\n",
      "Ground truth salary: 0.287. Predicted salary: 0.185\n",
      "Ground truth salary: 0.232. Predicted salary: 0.219\n",
      "Ground truth salary: 0.045. Predicted salary: 0.110\n",
      "Ground truth salary: 0.072. Predicted salary: 0.155\n",
      "Ground truth salary: 0.086. Predicted salary: 0.251\n",
      "Ground truth salary: 0.704. Predicted salary: 0.175\n",
      "Ground truth salary: 0.057. Predicted salary: 0.110\n",
      "Ground truth salary: 0.184. Predicted salary: 0.208\n",
      "Ground truth salary: 0.255. Predicted salary: 0.208\n",
      "Ground truth salary: 0.370. Predicted salary: 0.143\n",
      "Ground truth salary: 0.081. Predicted salary: 0.175\n",
      "Ground truth salary: 0.217. Predicted salary: 0.251\n",
      "Ground truth salary: 0.297. Predicted salary: 0.251\n",
      "Ground truth salary: 0.280. Predicted salary: 0.208\n",
      "Ground truth salary: 0.196. Predicted salary: 0.176\n",
      "Ground truth salary: 0.238. Predicted salary: 0.208\n",
      "Ground truth salary: 0.233. Predicted salary: 0.164\n",
      "Ground truth salary: 0.184. Predicted salary: 0.175\n",
      "Ground truth salary: 0.226. Predicted salary: 0.134\n",
      "Ground truth salary: 0.322. Predicted salary: 0.208\n",
      "Ground truth salary: 0.272. Predicted salary: 0.208\n",
      "Ground truth salary: 0.081. Predicted salary: 0.177\n",
      "Ground truth salary: 0.032. Predicted salary: 0.124\n",
      "Ground truth salary: 0.124. Predicted salary: 0.134\n",
      "Ground truth salary: 0.146. Predicted salary: 0.176\n",
      "Ground truth salary: 0.246. Predicted salary: 0.153\n",
      "Ground truth salary: 0.151. Predicted salary: 0.153\n",
      "Ground truth salary: 0.197. Predicted salary: 0.208\n",
      "Ground truth salary: 0.152. Predicted salary: 0.208\n",
      "Ground truth salary: 0.079. Predicted salary: 0.219\n",
      "Ground truth salary: 0.179. Predicted salary: 0.153\n",
      "Ground truth salary: 0.399. Predicted salary: 0.176\n",
      "Ground truth salary: 0.095. Predicted salary: 0.198\n",
      "Ground truth salary: 0.163. Predicted salary: 0.208\n",
      "Ground truth salary: 0.104. Predicted salary: 0.134\n",
      "Ground truth salary: 0.129. Predicted salary: 0.208\n",
      "Ground truth salary: 0.163. Predicted salary: 0.208\n",
      "Ground truth salary: 0.098. Predicted salary: 0.197\n",
      "Ground truth salary: 0.347. Predicted salary: 0.208\n",
      "Ground truth salary: 0.125. Predicted salary: 0.230\n",
      "Ground truth salary: 0.012. Predicted salary: 0.134\n",
      "Ground truth salary: 0.749. Predicted salary: 0.219\n",
      "Ground truth salary: 0.196. Predicted salary: 0.088\n",
      "Ground truth salary: 0.288. Predicted salary: 0.143\n",
      "Ground truth salary: 0.246. Predicted salary: 0.176\n",
      "Ground truth salary: 0.092. Predicted salary: 0.110\n",
      "Ground truth salary: 0.272. Predicted salary: 0.251\n",
      "Ground truth salary: 0.227. Predicted salary: 0.176\n",
      "Ground truth salary: 0.173. Predicted salary: 0.208\n",
      "Ground truth salary: 0.072. Predicted salary: 0.219\n",
      "Ground truth salary: 0.180. Predicted salary: 0.208\n",
      "Ground truth salary: 0.002. Predicted salary: 0.176\n",
      "Ground truth salary: 0.179. Predicted salary: 0.153\n",
      "Ground truth salary: 0.313. Predicted salary: 0.251\n",
      "Ground truth salary: 0.251. Predicted salary: 0.185\n",
      "Ground truth salary: 0.221. Predicted salary: 0.208\n",
      "Ground truth salary: 0.026. Predicted salary: 0.176\n",
      "Ground truth salary: 0.330. Predicted salary: 0.185\n",
      "Ground truth salary: 0.330. Predicted salary: 0.208\n",
      "Ground truth salary: 0.246. Predicted salary: 0.208\n",
      "Ground truth salary: 0.055. Predicted salary: 0.175\n",
      "Ground truth salary: 0.238. Predicted salary: 0.208\n",
      "Ground truth salary: 0.083. Predicted salary: 0.176\n",
      "Ground truth salary: 0.214. Predicted salary: 0.176\n",
      "Ground truth salary: 0.015. Predicted salary: 0.228\n",
      "Ground truth salary: 0.146. Predicted salary: 0.208\n",
      "Ground truth salary: 0.163. Predicted salary: 0.208\n",
      "Ground truth salary: 0.162. Predicted salary: 0.208\n",
      "Ground truth salary: 0.196. Predicted salary: 0.111\n",
      "Ground truth salary: 0.171. Predicted salary: 0.153\n",
      "Ground truth salary: 0.142. Predicted salary: 0.176\n",
      "Ground truth salary: 0.261. Predicted salary: 0.176\n",
      "Ground truth salary: 0.276. Predicted salary: 0.143\n",
      "Ground truth salary: 0.082. Predicted salary: 0.154\n",
      "Ground truth salary: 0.251. Predicted salary: 0.208\n",
      "Ground truth salary: 0.213. Predicted salary: 0.219\n",
      "Ground truth salary: 0.230. Predicted salary: 0.208\n",
      "Ground truth salary: 0.364. Predicted salary: 0.208\n",
      "Ground truth salary: 0.029. Predicted salary: 0.134\n",
      "Ground truth salary: 0.240. Predicted salary: 0.208\n",
      "Ground truth salary: 0.263. Predicted salary: 0.153\n",
      "Ground truth salary: 0.189. Predicted salary: 0.251\n",
      "Ground truth salary: 0.035. Predicted salary: 0.208\n",
      "Ground truth salary: 0.005. Predicted salary: 0.153\n",
      "Ground truth salary: 0.345. Predicted salary: 0.185\n",
      "Ground truth salary: 0.092. Predicted salary: 0.242\n",
      "Ground truth salary: 0.213. Predicted salary: 0.176\n",
      "Ground truth salary: 0.129. Predicted salary: 0.088\n",
      "Ground truth salary: 0.207. Predicted salary: 0.219\n",
      "Ground truth salary: 0.347. Predicted salary: 0.208\n",
      "Ground truth salary: 0.347. Predicted salary: 0.208\n",
      "Ground truth salary: 0.216. Predicted salary: 0.251\n",
      "Ground truth salary: 0.255. Predicted salary: 0.208\n",
      "Ground truth salary: 0.247. Predicted salary: 0.208\n",
      "Ground truth salary: 0.026. Predicted salary: 0.111\n",
      "Ground truth salary: 0.272. Predicted salary: 0.208\n",
      "Ground truth salary: 0.002. Predicted salary: 0.154\n",
      "Ground truth salary: 0.124. Predicted salary: 0.176\n",
      "Ground truth salary: 0.050. Predicted salary: 0.176\n",
      "Ground truth salary: 0.137. Predicted salary: 0.208\n",
      "Ground truth salary: 0.027. Predicted salary: 0.251\n",
      "Ground truth salary: 0.104. Predicted salary: 0.231\n",
      "Ground truth salary: 0.144. Predicted salary: 0.176\n",
      "Ground truth salary: 0.105. Predicted salary: 0.251\n",
      "Ground truth salary: 0.188. Predicted salary: 0.175\n",
      "Ground truth salary: 0.330. Predicted salary: 0.153\n",
      "Ground truth salary: 0.087. Predicted salary: 0.088\n",
      "Ground truth salary: 0.243. Predicted salary: 0.208\n",
      "Ground truth salary: 0.243. Predicted salary: 0.208\n",
      "Ground truth salary: 0.166. Predicted salary: 0.208\n",
      "Ground truth salary: 0.196. Predicted salary: 0.208\n",
      "Ground truth salary: 0.146. Predicted salary: 0.134\n",
      "Ground truth salary: 0.151. Predicted salary: 0.219\n",
      "Ground truth salary: 0.081. Predicted salary: 0.175\n",
      "Ground truth salary: 0.213. Predicted salary: 0.208\n",
      "Ground truth salary: 0.074. Predicted salary: 0.198\n",
      "Ground truth salary: 0.414. Predicted salary: 0.110\n",
      "Ground truth salary: 0.037. Predicted salary: 0.208\n",
      "Ground truth salary: 0.078. Predicted salary: 0.133\n",
      "Ground truth salary: 0.015. Predicted salary: 0.080\n",
      "Ground truth salary: 0.114. Predicted salary: 0.175\n",
      "Ground truth salary: 0.094. Predicted salary: 0.133\n",
      "Ground truth salary: 0.221. Predicted salary: 0.208\n",
      "Ground truth salary: 0.163. Predicted salary: 0.208\n",
      "Ground truth salary: 0.050. Predicted salary: 0.198\n",
      "Ground truth salary: 0.147. Predicted salary: 0.208\n",
      "Ground truth salary: 0.078. Predicted salary: 0.176\n",
      "Ground truth salary: 0.196. Predicted salary: 0.252\n",
      "Ground truth salary: 0.146. Predicted salary: 0.208\n",
      "Ground truth salary: 0.163. Predicted salary: 0.177\n",
      "Ground truth salary: 0.171. Predicted salary: 0.176\n",
      "Ground truth salary: 0.230. Predicted salary: 0.208\n",
      "Ground truth salary: 0.142. Predicted salary: 0.231\n",
      "Ground truth salary: 0.074. Predicted salary: 0.176\n",
      "Ground truth salary: 0.330. Predicted salary: 0.185\n",
      "Ground truth salary: 0.224. Predicted salary: 0.208\n",
      "Ground truth salary: 0.142. Predicted salary: 0.153\n",
      "Ground truth salary: 0.115. Predicted salary: 0.231\n",
      "Ground truth salary: 0.113. Predicted salary: 0.175\n",
      "Ground truth salary: 0.043. Predicted salary: 0.175\n",
      "Ground truth salary: 0.033. Predicted salary: 0.197\n",
      "Ground truth salary: 0.184. Predicted salary: 0.229\n",
      "Ground truth salary: 0.171. Predicted salary: 0.208\n",
      "Ground truth salary: 0.287. Predicted salary: 0.185\n",
      "Ground truth salary: 0.129. Predicted salary: 0.111\n",
      "Ground truth salary: 0.043. Predicted salary: 0.153\n",
      "Ground truth salary: 0.314. Predicted salary: 0.208\n",
      "Ground truth salary: 0.163. Predicted salary: 0.110\n",
      "Ground truth salary: 0.018. Predicted salary: 0.088\n",
      "Ground truth salary: 0.083. Predicted salary: 0.219\n",
      "Ground truth salary: 0.063. Predicted salary: 0.207\n",
      "Ground truth salary: 0.163. Predicted salary: 0.132\n",
      "Ground truth salary: 0.236. Predicted salary: 0.185\n",
      "Ground truth salary: 1.000. Predicted salary: 0.121\n",
      "Ground truth salary: 0.058. Predicted salary: 0.175\n",
      "Ground truth salary: 0.138. Predicted salary: 0.153\n",
      "Ground truth salary: 0.206. Predicted salary: 0.208\n",
      "Ground truth salary: 0.347. Predicted salary: 0.208\n",
      "Ground truth salary: 0.290. Predicted salary: 0.208\n",
      "Ground truth salary: 0.280. Predicted salary: 0.208\n",
      "Ground truth salary: 0.163. Predicted salary: 0.155\n",
      "Ground truth salary: 0.155. Predicted salary: 0.251\n",
      "Ground truth salary: 0.099. Predicted salary: 0.207\n",
      "Ground truth salary: 0.447. Predicted salary: 0.215\n",
      "Ground truth salary: 0.038. Predicted salary: 0.198\n",
      "Ground truth salary: 0.213. Predicted salary: 0.143\n",
      "Ground truth salary: 0.213. Predicted salary: 0.175\n",
      "Ground truth salary: 0.305. Predicted salary: 0.185\n",
      "Ground truth salary: 0.048. Predicted salary: 0.153\n",
      "Ground truth salary: 0.263. Predicted salary: 0.208\n",
      "Ground truth salary: 0.074. Predicted salary: 0.175\n",
      "Ground truth salary: 0.104. Predicted salary: 0.197\n",
      "Ground truth salary: 0.132. Predicted salary: 0.251\n",
      "Ground truth salary: 0.000. Predicted salary: 0.242\n",
      "Ground truth salary: 0.071. Predicted salary: 0.153\n",
      "Ground truth salary: 0.058. Predicted salary: 0.088\n",
      "Ground truth salary: 0.102. Predicted salary: 0.110\n",
      "Ground truth salary: 0.029. Predicted salary: 0.242\n",
      "Ground truth salary: 0.364. Predicted salary: 0.208\n",
      "Ground truth salary: 0.171. Predicted salary: 0.270\n",
      "Ground truth salary: 0.254. Predicted salary: 0.185\n",
      "Ground truth salary: 0.121. Predicted salary: 0.219\n",
      "Ground truth salary: 0.138. Predicted salary: 0.219\n",
      "Ground truth salary: 0.270. Predicted salary: 0.251\n",
      "Ground truth salary: 0.012. Predicted salary: 0.111\n",
      "Ground truth salary: 0.039. Predicted salary: 0.197\n",
      "Ground truth salary: 0.230. Predicted salary: 0.208\n",
      "Ground truth salary: 0.110. Predicted salary: 0.185\n",
      "Ground truth salary: 0.086. Predicted salary: 0.175\n",
      "Ground truth salary: 0.087. Predicted salary: 0.144\n",
      "Ground truth salary: 0.349. Predicted salary: 0.208\n",
      "Ground truth salary: 0.106. Predicted salary: 0.220\n",
      "Ground truth salary: 0.673. Predicted salary: 0.185\n",
      "Ground truth salary: 0.043. Predicted salary: 0.111\n",
      "Ground truth salary: 0.102. Predicted salary: 0.176\n",
      "Ground truth salary: 0.125. Predicted salary: 0.220\n",
      "Ground truth salary: 0.191. Predicted salary: 0.175\n",
      "Ground truth salary: 0.079. Predicted salary: 0.208\n",
      "Ground truth salary: 0.310. Predicted salary: 0.185\n",
      "Ground truth salary: 0.005. Predicted salary: 0.132\n",
      "Ground truth salary: 0.171. Predicted salary: 0.134\n",
      "Ground truth salary: 0.238. Predicted salary: 0.208\n",
      "Ground truth salary: 0.163. Predicted salary: 0.111\n",
      "Ground truth salary: 0.225. Predicted salary: 0.208\n",
      "Ground truth salary: 0.100. Predicted salary: 0.185\n",
      "Ground truth salary: 0.345. Predicted salary: 0.208\n",
      "Ground truth salary: 0.230. Predicted salary: 0.251\n",
      "Ground truth salary: 0.154. Predicted salary: 0.207\n",
      "Ground truth salary: 0.099. Predicted salary: 0.197\n",
      "Ground truth salary: 0.102. Predicted salary: 0.219\n",
      "Ground truth salary: 0.339. Predicted salary: 0.251\n",
      "Ground truth salary: 0.141. Predicted salary: 0.153\n",
      "Ground truth salary: 0.072. Predicted salary: 0.219\n",
      "Ground truth salary: 0.196. Predicted salary: 0.208\n",
      "Ground truth salary: 0.133. Predicted salary: 0.153\n",
      "Ground truth salary: 0.072. Predicted salary: 0.231\n",
      "Ground truth salary: 0.250. Predicted salary: 0.185\n",
      "Ground truth salary: 0.236. Predicted salary: 0.207\n",
      "Ground truth salary: 0.100. Predicted salary: 0.155\n",
      "Ground truth salary: 0.318. Predicted salary: 0.208\n",
      "Ground truth salary: 0.196. Predicted salary: 0.208\n",
      "Ground truth salary: 0.345. Predicted salary: 0.185\n",
      "Ground truth salary: 0.152. Predicted salary: 0.207\n",
      "Ground truth salary: 0.029. Predicted salary: 0.207\n",
      "Ground truth salary: 0.112. Predicted salary: 0.175\n",
      "Ground truth salary: 0.094. Predicted salary: 0.088\n",
      "Ground truth salary: 0.124. Predicted salary: 0.198\n",
      "Ground truth salary: 0.029. Predicted salary: 0.198\n",
      "Ground truth salary: 0.133. Predicted salary: 0.198\n",
      "Ground truth salary: 0.124. Predicted salary: 0.132\n",
      "Ground truth salary: 0.090. Predicted salary: 0.220\n",
      "Ground truth salary: 0.339. Predicted salary: 0.229\n",
      "Ground truth salary: 0.015. Predicted salary: 0.219\n",
      "Ground truth salary: 0.330. Predicted salary: 0.176\n",
      "Ground truth salary: 0.096. Predicted salary: 0.197\n",
      "Ground truth salary: 0.372. Predicted salary: 0.185\n",
      "Ground truth salary: 0.094. Predicted salary: 0.176\n",
      "Ground truth salary: 0.173. Predicted salary: 0.219\n",
      "Ground truth salary: 0.011. Predicted salary: 0.134\n",
      "Ground truth salary: 0.098. Predicted salary: 0.208\n",
      "Ground truth salary: 0.352. Predicted salary: 0.208\n",
      "Ground truth salary: 0.075. Predicted salary: 0.207\n",
      "Ground truth salary: 0.286. Predicted salary: 0.208\n",
      "Ground truth salary: 0.146. Predicted salary: 0.134\n",
      "Ground truth salary: 0.115. Predicted salary: 0.208\n",
      "Ground truth salary: 0.060. Predicted salary: 0.176\n",
      "Ground truth salary: 0.037. Predicted salary: 0.175\n",
      "Ground truth salary: 0.086. Predicted salary: 0.207\n",
      "Ground truth salary: 0.124. Predicted salary: 0.176\n",
      "Ground truth salary: 0.163. Predicted salary: 0.150\n",
      "Ground truth salary: 0.063. Predicted salary: 0.176\n",
      "Ground truth salary: 0.354. Predicted salary: 0.208\n",
      "Ground truth salary: 0.213. Predicted salary: 0.208\n",
      "Ground truth salary: 0.105. Predicted salary: 0.219\n",
      "Ground truth salary: 0.205. Predicted salary: 0.134\n",
      "Ground truth salary: 0.246. Predicted salary: 0.251\n",
      "Ground truth salary: 0.166. Predicted salary: 0.219\n",
      "Ground truth salary: 0.200. Predicted salary: 0.197\n",
      "Ground truth salary: 0.025. Predicted salary: 0.134\n",
      "Ground truth salary: 0.079. Predicted salary: 0.153\n",
      "Ground truth salary: 0.441. Predicted salary: 0.208\n",
      "Ground truth salary: 0.380. Predicted salary: 0.142\n",
      "Ground truth salary: 0.431. Predicted salary: 0.208\n",
      "Ground truth salary: 0.083. Predicted salary: 0.088\n",
      "Ground truth salary: 0.196. Predicted salary: 0.198\n",
      "Ground truth salary: 0.160. Predicted salary: 0.176\n",
      "Ground truth salary: 0.184. Predicted salary: 0.208\n",
      "Ground truth salary: 0.161. Predicted salary: 0.251\n",
      "Ground truth salary: 0.142. Predicted salary: 0.176\n",
      "Ground truth salary: 0.055. Predicted salary: 0.153\n",
      "Ground truth salary: 0.297. Predicted salary: 0.208\n",
      "Ground truth salary: 0.062. Predicted salary: 0.154\n",
      "Ground truth salary: 0.183. Predicted salary: 0.153\n",
      "Ground truth salary: 0.051. Predicted salary: 0.274\n",
      "Ground truth salary: 0.260. Predicted salary: 0.185\n",
      "Ground truth salary: 0.112. Predicted salary: 0.111\n",
      "Ground truth salary: 0.163. Predicted salary: 0.208\n",
      "Ground truth salary: 0.161. Predicted salary: 0.251\n",
      "Ground truth salary: 0.241. Predicted salary: 0.175\n",
      "Ground truth salary: 0.147. Predicted salary: 0.175\n",
      "Ground truth salary: 0.221. Predicted salary: 0.208\n",
      "Ground truth salary: 0.147. Predicted salary: 0.175\n",
      "Ground truth salary: 0.092. Predicted salary: 0.242\n",
      "Ground truth salary: 0.230. Predicted salary: 0.229\n",
      "Ground truth salary: 0.087. Predicted salary: 0.155\n",
      "Ground truth salary: 0.201. Predicted salary: 0.208\n",
      "Ground truth salary: 0.046. Predicted salary: 0.088\n",
      "Ground truth salary: 0.142. Predicted salary: 0.176\n",
      "Ground truth salary: 0.163. Predicted salary: 0.176\n",
      "Ground truth salary: 0.178. Predicted salary: 0.230\n",
      "Ground truth salary: 0.280. Predicted salary: 0.176\n",
      "Ground truth salary: 0.111. Predicted salary: 0.208\n",
      "Ground truth salary: 0.129. Predicted salary: 0.231\n",
      "Ground truth salary: 0.005. Predicted salary: 0.133\n",
      "Ground truth salary: 0.277. Predicted salary: 0.274\n",
      "Ground truth salary: 0.087. Predicted salary: 0.219\n",
      "Ground truth salary: 0.246. Predicted salary: 0.134\n",
      "Ground truth salary: 0.272. Predicted salary: 0.251\n",
      "Ground truth salary: 0.317. Predicted salary: 0.208\n",
      "Ground truth salary: 0.414. Predicted salary: 0.164\n",
      "Ground truth salary: 0.028. Predicted salary: 0.153\n",
      "Ground truth salary: 0.128. Predicted salary: 0.185\n",
      "Ground truth salary: 0.100. Predicted salary: 0.220\n",
      "Ground truth salary: 0.031. Predicted salary: 0.133\n",
      "Ground truth salary: 0.061. Predicted salary: 0.219\n",
      "Ground truth salary: 0.263. Predicted salary: 0.153\n",
      "Ground truth salary: 0.280. Predicted salary: 0.208\n",
      "Ground truth salary: 0.171. Predicted salary: 0.208\n",
      "Ground truth salary: 0.154. Predicted salary: 0.207\n",
      "Ground truth salary: 0.156. Predicted salary: 0.198\n",
      "Ground truth salary: 0.112. Predicted salary: 0.088\n",
      "Ground truth salary: 0.309. Predicted salary: 0.153\n",
      "Ground truth salary: 0.305. Predicted salary: 0.207\n",
      "Ground truth salary: 0.140. Predicted salary: 0.133\n",
      "Ground truth salary: 0.230. Predicted salary: 0.208\n",
      "Ground truth salary: 0.196. Predicted salary: 0.207\n",
      "Ground truth salary: 0.005. Predicted salary: 0.177\n",
      "Ground truth salary: 0.303. Predicted salary: 0.185\n",
      "Ground truth salary: 0.230. Predicted salary: 0.208\n",
      "Ground truth salary: 0.263. Predicted salary: 0.231\n",
      "Ground truth salary: 0.230. Predicted salary: 0.208\n",
      "Ground truth salary: 0.380. Predicted salary: 0.208\n",
      "Ground truth salary: 0.113. Predicted salary: 0.251\n",
      "Ground truth salary: 0.072. Predicted salary: 0.111\n",
      "Ground truth salary: 0.076. Predicted salary: 0.198\n",
      "Ground truth salary: 0.185. Predicted salary: 0.208\n",
      "Ground truth salary: 0.258. Predicted salary: 0.153\n",
      "Ground truth salary: 0.263. Predicted salary: 0.252\n",
      "Ground truth salary: 0.079. Predicted salary: 0.231\n",
      "Ground truth salary: 0.431. Predicted salary: 0.274\n",
      "Ground truth salary: 0.196. Predicted salary: 0.229\n",
      "Ground truth salary: 0.127. Predicted salary: 0.251\n",
      "Ground truth salary: 0.275. Predicted salary: 0.176\n",
      "Ground truth salary: 0.211. Predicted salary: 0.251\n",
      "Ground truth salary: 0.692. Predicted salary: 0.228\n",
      "Ground truth salary: 0.032. Predicted salary: 0.133\n",
      "Ground truth salary: 0.152. Predicted salary: 0.208\n",
      "Ground truth salary: 0.121. Predicted salary: 0.198\n",
      "Ground truth salary: 0.128. Predicted salary: 0.142\n",
      "Ground truth salary: 0.177. Predicted salary: 0.251\n",
      "Ground truth salary: 0.246. Predicted salary: 0.208\n",
      "Ground truth salary: 0.372. Predicted salary: 0.088\n",
      "Ground truth salary: 0.300. Predicted salary: 0.251\n",
      "Ground truth salary: 0.196. Predicted salary: 0.219\n",
      "Ground truth salary: 0.246. Predicted salary: 0.121\n",
      "Ground truth salary: 0.106. Predicted salary: 0.176\n",
      "Ground truth salary: 0.146. Predicted salary: 0.208\n",
      "Ground truth salary: 0.127. Predicted salary: 0.208\n",
      "Ground truth salary: 0.201. Predicted salary: 0.208\n",
      "Ground truth salary: 0.280. Predicted salary: 0.185\n",
      "Ground truth salary: 0.066. Predicted salary: 0.220\n",
      "Ground truth salary: 0.685. Predicted salary: 0.185\n",
      "Ground truth salary: 0.138. Predicted salary: 0.134\n",
      "Ground truth salary: 0.112. Predicted salary: 0.166\n",
      "Ground truth salary: 0.079. Predicted salary: 0.176\n",
      "Ground truth salary: 0.171. Predicted salary: 0.251\n",
      "Ground truth salary: 0.119. Predicted salary: 0.220\n",
      "Ground truth salary: 0.096. Predicted salary: 0.134\n",
      "Ground truth salary: 0.116. Predicted salary: 0.219\n",
      "Ground truth salary: 0.129. Predicted salary: 0.251\n",
      "Ground truth salary: 0.457. Predicted salary: 0.229\n",
      "Ground truth salary: 0.182. Predicted salary: 0.219\n",
      "Ground truth salary: 0.127. Predicted salary: 0.176\n",
      "Ground truth salary: 0.096. Predicted salary: 0.208\n",
      "Ground truth salary: 0.112. Predicted salary: 0.122\n",
      "Ground truth salary: 0.106. Predicted salary: 0.229\n",
      "Ground truth salary: 0.134. Predicted salary: 0.219\n",
      "Ground truth salary: 0.397. Predicted salary: 0.229\n",
      "Ground truth salary: 0.192. Predicted salary: 0.219\n",
      "Ground truth salary: 0.042. Predicted salary: 0.176\n",
      "Ground truth salary: 0.178. Predicted salary: 0.175\n",
      "Ground truth salary: 0.005. Predicted salary: 0.198\n",
      "Ground truth salary: 0.221. Predicted salary: 0.153\n",
      "Ground truth salary: 0.246. Predicted salary: 0.185\n",
      "Ground truth salary: 0.538. Predicted salary: 0.143\n",
      "Ground truth salary: 0.189. Predicted salary: 0.251\n",
      "Ground truth salary: 0.098. Predicted salary: 0.208\n",
      "Ground truth salary: 0.181. Predicted salary: 0.208\n",
      "Ground truth salary: 0.188. Predicted salary: 0.231\n",
      "Ground truth salary: 0.272. Predicted salary: 0.208\n",
      "Ground truth salary: 0.163. Predicted salary: 0.153\n",
      "Ground truth salary: 0.255. Predicted salary: 0.208\n",
      "Ground truth salary: 0.265. Predicted salary: 0.208\n",
      "Ground truth salary: 0.111. Predicted salary: 0.176\n",
      "Ground truth salary: 0.013. Predicted salary: 0.102\n",
      "Ground truth salary: 0.356. Predicted salary: 0.229\n",
      "Ground truth salary: 0.004. Predicted salary: 0.166\n",
      "Ground truth salary: 0.254. Predicted salary: 0.185\n",
      "Ground truth salary: 0.097. Predicted salary: 0.207\n",
      "Ground truth salary: 0.193. Predicted salary: 0.166\n",
      "Ground truth salary: 0.297. Predicted salary: 0.229\n",
      "Ground truth salary: 0.203. Predicted salary: 0.219\n",
      "Ground truth salary: 0.364. Predicted salary: 0.208\n",
      "Ground truth salary: 0.069. Predicted salary: 0.176\n",
      "Ground truth salary: 0.179. Predicted salary: 0.143\n",
      "Ground truth salary: 0.146. Predicted salary: 0.134\n",
      "Ground truth salary: 0.164. Predicted salary: 0.185\n",
      "Ground truth salary: 0.129. Predicted salary: 0.111\n",
      "Ground truth salary: 0.188. Predicted salary: 0.208\n",
      "Ground truth salary: 0.172. Predicted salary: 0.208\n",
      "Ground truth salary: 0.127. Predicted salary: 0.219\n",
      "Ground truth salary: 0.142. Predicted salary: 0.251\n",
      "Ground truth salary: 0.196. Predicted salary: 0.229\n",
      "Ground truth salary: 0.191. Predicted salary: 0.207\n",
      "Ground truth salary: 0.246. Predicted salary: 0.208\n",
      "Ground truth salary: 0.146. Predicted salary: 0.219\n",
      "Ground truth salary: 0.065. Predicted salary: 0.134\n",
      "Ground truth salary: 0.062. Predicted salary: 0.088\n",
      "Ground truth salary: 0.069. Predicted salary: 0.176\n",
      "Ground truth salary: 0.063. Predicted salary: 0.197\n",
      "Ground truth salary: 0.230. Predicted salary: 0.229\n",
      "Ground truth salary: 0.193. Predicted salary: 0.176\n",
      "Ground truth salary: 0.029. Predicted salary: 0.228\n",
      "Ground truth salary: 0.184. Predicted salary: 0.208\n",
      "Ground truth salary: 0.221. Predicted salary: 0.153\n",
      "Ground truth salary: 0.084. Predicted salary: 0.207\n",
      "Ground truth salary: 0.100. Predicted salary: 0.197\n",
      "Ground truth salary: 0.161. Predicted salary: 0.219\n",
      "Ground truth salary: 0.189. Predicted salary: 0.208\n",
      "Ground truth salary: 0.117. Predicted salary: 0.088\n",
      "Ground truth salary: 0.313. Predicted salary: 0.251\n",
      "Ground truth salary: 0.364. Predicted salary: 0.251\n",
      "Ground truth salary: 0.330. Predicted salary: 0.208\n",
      "Ground truth salary: 0.330. Predicted salary: 0.208\n",
      "Ground truth salary: 0.318. Predicted salary: 0.208\n",
      "Ground truth salary: 0.211. Predicted salary: 0.208\n",
      "Ground truth salary: 0.127. Predicted salary: 0.176\n",
      "Ground truth salary: 0.096. Predicted salary: 0.185\n",
      "Ground truth salary: 0.163. Predicted salary: 0.102\n",
      "Ground truth salary: 0.161. Predicted salary: 0.208\n",
      "Ground truth salary: 0.236. Predicted salary: 0.208\n",
      "Ground truth salary: 0.230. Predicted salary: 0.153\n",
      "Ground truth salary: 0.272. Predicted salary: 0.251\n",
      "Ground truth salary: 0.263. Predicted salary: 0.251\n",
      "Ground truth salary: 0.263. Predicted salary: 0.208\n",
      "Ground truth salary: 0.389. Predicted salary: 0.185\n",
      "Ground truth salary: 0.036. Predicted salary: 0.185\n",
      "Ground truth salary: 0.539. Predicted salary: 0.121\n",
      "Ground truth salary: 0.133. Predicted salary: 0.110\n",
      "Ground truth salary: 0.011. Predicted salary: 0.242\n",
      "Ground truth salary: 0.188. Predicted salary: 0.208\n",
      "Ground truth salary: 0.134. Predicted salary: 0.230\n",
      "Ground truth salary: 0.159. Predicted salary: 0.219\n",
      "Ground truth salary: 0.248. Predicted salary: 0.153\n",
      "Ground truth salary: 0.160. Predicted salary: 0.219\n",
      "Ground truth salary: 0.190. Predicted salary: 0.208\n",
      "Ground truth salary: 0.272. Predicted salary: 0.185\n",
      "Ground truth salary: 0.102. Predicted salary: 0.207\n",
      "Ground truth salary: 0.087. Predicted salary: 0.185\n",
      "Ground truth salary: 0.263. Predicted salary: 0.176\n",
      "Ground truth salary: 0.106. Predicted salary: 0.176\n",
      "Ground truth salary: 0.272. Predicted salary: 0.185\n",
      "Ground truth salary: 0.062. Predicted salary: 0.153\n",
      "Ground truth salary: 0.116. Predicted salary: 0.088\n",
      "Ground truth salary: 0.165. Predicted salary: 0.208\n",
      "Ground truth salary: 0.017. Predicted salary: 0.242\n",
      "Ground truth salary: 0.105. Predicted salary: 0.219\n",
      "Ground truth salary: 0.059. Predicted salary: 0.153\n",
      "Ground truth salary: 0.179. Predicted salary: 0.242\n",
      "Ground truth salary: 0.043. Predicted salary: 0.124\n",
      "Ground truth salary: 0.009. Predicted salary: 0.175\n",
      "Ground truth salary: 0.189. Predicted salary: 0.176\n",
      "Ground truth salary: 0.302. Predicted salary: 0.219\n",
      "Ground truth salary: 0.029. Predicted salary: 0.154\n",
      "Ground truth salary: 0.297. Predicted salary: 0.153\n",
      "Ground truth salary: 0.171. Predicted salary: 0.208\n",
      "Ground truth salary: 0.072. Predicted salary: 0.198\n",
      "Ground truth salary: 0.195. Predicted salary: 0.176\n",
      "Ground truth salary: 0.246. Predicted salary: 0.229\n",
      "Ground truth salary: 0.207. Predicted salary: 0.208\n",
      "Ground truth salary: 0.156. Predicted salary: 0.207\n",
      "Ground truth salary: 0.169. Predicted salary: 0.185\n",
      "Ground truth salary: 0.325. Predicted salary: 0.142\n",
      "Ground truth salary: 0.230. Predicted salary: 0.208\n",
      "Ground truth salary: 0.632. Predicted salary: 0.185\n",
      "Ground truth salary: 0.015. Predicted salary: 0.103\n",
      "Ground truth salary: 0.024. Predicted salary: 0.198\n",
      "Ground truth salary: 0.122. Predicted salary: 0.153\n",
      "Ground truth salary: 0.330. Predicted salary: 0.143\n",
      "Ground truth salary: 0.032. Predicted salary: 0.088\n",
      "Ground truth salary: 0.356. Predicted salary: 0.185\n",
      "Ground truth salary: 0.107. Predicted salary: 0.154\n",
      "Ground truth salary: 0.089. Predicted salary: 0.175\n",
      "Ground truth salary: 0.050. Predicted salary: 0.176\n",
      "Ground truth salary: 0.022. Predicted salary: 0.103\n",
      "Ground truth salary: 0.060. Predicted salary: 0.176\n",
      "Ground truth salary: 0.188. Predicted salary: 0.197\n",
      "Ground truth salary: 0.749. Predicted salary: 0.153\n",
      "Ground truth salary: 0.203. Predicted salary: 0.208\n",
      "Ground truth salary: 0.049. Predicted salary: 0.173\n",
      "Ground truth salary: 0.119. Predicted salary: 0.175\n",
      "Ground truth salary: 0.400. Predicted salary: 0.143\n",
      "Ground truth salary: 0.146. Predicted salary: 0.208\n",
      "Ground truth salary: 0.073. Predicted salary: 0.153\n",
      "Average Loss: 0.0141\n"
     ]
    }
   ],
   "source": [
    "import pandas as pd\n",
    "import torch\n",
    "import numpy as np\n",
    "import pandas as pd\n",
    "import torch.nn as nn\n",
    "import torch.optim as optim\n",
    "from torch.utils.data import DataLoader, TensorDataset\n",
    "from sklearn.preprocessing import MinMaxScaler\n",
    "torch.manual_seed(1) # for 01\n",
    "\n",
    "salaries = pd.read_csv(\"datasets/ds_salaries.csv\")\n",
    "target_df = salaries[\"salary_in_usd\"]\n",
    "features_df = salaries[[\"experience_level\", \"employment_type\", \"remote_ratio\", \"company_size\"]]\n",
    "features_df.loc[:, \"company_size\"] = features_df[\"company_size\"].astype(\"category\").cat.codes\n",
    "features_df.loc[:, \"experience_level\"] = features_df[\"experience_level\"].astype(\"category\").cat.codes\n",
    "features_df.loc[:, \"employment_type\"] = features_df[\"employment_type\"].astype(\"category\").cat.codes\n",
    "features = features_df.to_numpy(dtype='float32')\n",
    "scaler = MinMaxScaler()\n",
    "target = scaler.fit_transform(target_df.values.reshape(-1, 1))\n",
    "target = target.astype(np.float32)\n",
    "\n",
    "# Create the dataset and the dataloader\n",
    "dataset = TensorDataset(torch.tensor(features), torch.tensor(target))\n",
    "dataloader = DataLoader(dataset, batch_size=4, shuffle=True)\n",
    "\n",
    "# Create the model\n",
    "model = nn.Sequential(nn.Linear(4, 2),                       \n",
    "                      nn.Linear(2, 1))\n",
    "\n",
    "# Create the loss and optimizer\n",
    "criterion = nn.MSELoss()\n",
    "optimizer = optim.SGD(model.parameters(), lr=0.001)\n",
    "\n",
    "# Loop over the number of epochs and the dataloader\n",
    "num_epochs = 10\n",
    "for epoch in range(num_epochs):\n",
    "    for data in dataloader:\n",
    "        # Set the gradients to zero\n",
    "        optimizer.zero_grad()\n",
    "        # Get feature and target from the data loader\n",
    "        feature, target = data\n",
    "        # Run a forward pass\n",
    "        pred = model(feature)\n",
    "        # Compute loss and gradients\n",
    "        loss = criterion(pred, target)\n",
    "        loss.backward()\n",
    "        # Update the parameters\n",
    "        optimizer.step()\n",
    "        \n",
    "show_results(model, dataloader)"
   ]
  },
  {
   "cell_type": "code",
   "execution_count": null,
   "id": "e5c57ad2-d06d-422e-b206-fd8ede58f020",
   "metadata": {},
   "outputs": [],
   "source": []
  },
  {
   "cell_type": "code",
   "execution_count": null,
   "id": "330becc4-4f8c-45a0-bb86-ffd46ed51bc2",
   "metadata": {},
   "outputs": [],
   "source": []
  }
 ],
 "metadata": {
  "kernelspec": {
   "display_name": "Python 3 (ipykernel)",
   "language": "python",
   "name": "python3"
  },
  "language_info": {
   "codemirror_mode": {
    "name": "ipython",
    "version": 3
   },
   "file_extension": ".py",
   "mimetype": "text/x-python",
   "name": "python",
   "nbconvert_exporter": "python",
   "pygments_lexer": "ipython3",
   "version": "3.9.16"
  }
 },
 "nbformat": 4,
 "nbformat_minor": 5
}
