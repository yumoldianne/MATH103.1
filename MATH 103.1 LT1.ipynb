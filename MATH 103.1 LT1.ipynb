{
 "cells": [
  {
   "cell_type": "markdown",
   "id": "327d11c9-8fcf-434c-940d-67dee2bfc4ff",
   "metadata": {},
   "source": [
    "# Exam 1  (50 pts)\n",
    "**Write your name:** Yumol, Dianne"
   ]
  },
  {
   "cell_type": "code",
   "execution_count": 1,
   "id": "7f918fb0-0c31-4939-8e29-dc6adfecf289",
   "metadata": {
    "executionCancelledAt": null,
    "executionTime": 15,
    "lastExecutedAt": 1695215411409,
    "lastScheduledRunId": null,
    "lastSuccessfullyExecutedCode": "import numpy as np\nimport pandas as pd"
   },
   "outputs": [],
   "source": [
    "import numpy as np\n",
    "import pandas as pd"
   ]
  },
  {
   "cell_type": "markdown",
   "id": "4a551c9b-0f6c-4424-ab6d-6fa2a9f305c6",
   "metadata": {},
   "source": [
    "## Question 1. Consider the given tensor below."
   ]
  },
  {
   "cell_type": "code",
   "execution_count": 2,
   "id": "dae1d7ff-a84d-48f8-95cd-2a220fe78031",
   "metadata": {
    "executionCancelledAt": null,
    "executionTime": 13,
    "lastExecutedAt": 1695215413588,
    "lastScheduledRunId": null,
    "lastSuccessfullyExecutedCode": "gt2 = np.array([[198, 201, 202, 203, 205, 206, 205, 209, 207, 204],\n                [199, 199, 204, 201, 203, 208, 206, 207, 209, 207],\n                [201, 201, 203, 205, 206, 216, 223, 203, 207, 239],\n                [206, 202, 205, 207, 196, 255, 238, 197, 160, 235],\n                [202, 203, 232, 215, 197, 246, 230, 215, 153, 235]])"
   },
   "outputs": [],
   "source": [
    "gt2 = np.array([[198, 201, 202, 203, 205, 206, 205, 209, 207, 204],\n",
    "                [199, 199, 204, 201, 203, 208, 206, 207, 209, 207],\n",
    "                [201, 201, 203, 205, 206, 216, 223, 203, 207, 239],\n",
    "                [206, 202, 205, 207, 196, 255, 238, 197, 160, 235],\n",
    "                [202, 203, 232, 215, 197, 246, 230, 215, 153, 235]])"
   ]
  },
  {
   "cell_type": "markdown",
   "id": "bc8ec0b7-8150-4c76-a094-5754b51e7e98",
   "metadata": {},
   "source": [
    "### 1.1 Find the number of rows and columns of `gt2`. (5 pts)"
   ]
  },
  {
   "cell_type": "code",
   "execution_count": 3,
   "id": "c466c5d3-e19b-4749-ade4-ee882c700ce2",
   "metadata": {
    "executionCancelledAt": null,
    "executionTime": 10,
    "lastExecutedAt": 1695215417301,
    "lastScheduledRunId": null,
    "lastSuccessfullyExecutedCode": "### Write your code below to solve 1.1\n"
   },
   "outputs": [
    {
     "name": "stdout",
     "output_type": "stream",
     "text": [
      "5\n",
      "10\n"
     ]
    }
   ],
   "source": [
    "### Write your codes below to solve/answer 1.1\n",
    "# nrows, ncols = (5,10)\n",
    "nrows, ncols = np.shape(gt2)\n",
    "print(nrows)\n",
    "print(ncols)"
   ]
  },
  {
   "cell_type": "markdown",
   "id": "a5d3e157-fffe-443b-94d8-041c6a0293a9",
   "metadata": {},
   "source": [
    "### 1.2 Reshape `gt2` into a vector named `gt1`. (5 pts)"
   ]
  },
  {
   "cell_type": "code",
   "execution_count": 4,
   "id": "476bbc59-d8f1-4ed8-990f-f5e6aeafecc2",
   "metadata": {
    "executionCancelledAt": null,
    "executionTime": 48,
    "lastExecutedAt": 1695215421133,
    "lastScheduledRunId": null,
    "lastSuccessfullyExecutedCode": "### Write your code below to solve 1.2\n# gt1 ="
   },
   "outputs": [
    {
     "name": "stdout",
     "output_type": "stream",
     "text": [
      "[198 201 202 203 205 206 205 209 207 204 199 199 204 201 203 208 206 207\n",
      " 209 207 201 201 203 205 206 216 223 203 207 239 206 202 205 207 196 255\n",
      " 238 197 160 235 202 203 232 215 197 246 230 215 153 235]\n"
     ]
    }
   ],
   "source": [
    "### Write your code below to solve/answer 1.2\n",
    "gt1 = np.ravel(gt2) \n",
    "print(gt1)"
   ]
  },
  {
   "cell_type": "markdown",
   "id": "84139d67-14e1-4e48-a98e-be3fdbadb4a8",
   "metadata": {},
   "source": [
    "### 1.3 Find the row-wise sums of `gt2`. (5 pts)"
   ]
  },
  {
   "cell_type": "code",
   "execution_count": 20,
   "id": "fa7b5e88-e002-42fe-b2f8-c78da1df70b2",
   "metadata": {
    "executionCancelledAt": null,
    "executionTime": 11,
    "lastExecutedAt": 1695215426666,
    "lastScheduledRunId": null,
    "lastSuccessfullyExecutedCode": "### Write your code to solve 1.3"
   },
   "outputs": [
    {
     "data": {
      "text/plain": [
       "array([2040, 2043, 2104, 2101, 2128])"
      ]
     },
     "execution_count": 20,
     "metadata": {},
     "output_type": "execute_result"
    }
   ],
   "source": [
    "### Write your code below to solve/answer 1.3.\n",
    "np.sum(gt2, axis = 1)"
   ]
  },
  {
   "cell_type": "markdown",
   "id": "5f0931bf-b3bb-4f31-83fc-85e7dd070e45",
   "metadata": {},
   "source": [
    "## Question 2. Consider the comma-delimited file `yob2005.txt` which is a record of the names of babies in the US in 2005.\n",
    "*    The file has no column names.\n",
    "*    Each row has the format `name,sex,number,` where `name` is 2 to 15 characters, `sex` is `M` (male) or `F` (female) and `number` is the number of occurrences of the name in 2005. \n",
    "*    The file is sorted first on sex and then on number of occurrences in descending order."
   ]
  },
  {
   "cell_type": "code",
   "execution_count": 6,
   "id": "6f473502-c9d5-445a-a654-465369514a68",
   "metadata": {
    "executionCancelledAt": null,
    "executionTime": 49,
    "lastExecutedAt": 1695216449617,
    "lastScheduledRunId": null,
    "lastSuccessfullyExecutedCode": "babynames = pd.read_csv(\"datasets/yob2005.txt\", sep=\",\", header=None, names=[\"Name\", \"Sex\", \"Number\"])"
   },
   "outputs": [],
   "source": [
    "# loading the dataset into a pandas dataframe\n",
    "babynames = pd.read_csv(\"yob2005.txt\", sep=\",\", header=None, names=[\"Name\", \"Sex\", \"Number\"])"
   ]
  },
  {
   "cell_type": "code",
   "execution_count": 7,
   "id": "d2c89252",
   "metadata": {},
   "outputs": [
    {
     "data": {
      "text/html": [
       "<div>\n",
       "<style scoped>\n",
       "    .dataframe tbody tr th:only-of-type {\n",
       "        vertical-align: middle;\n",
       "    }\n",
       "\n",
       "    .dataframe tbody tr th {\n",
       "        vertical-align: top;\n",
       "    }\n",
       "\n",
       "    .dataframe thead th {\n",
       "        text-align: right;\n",
       "    }\n",
       "</style>\n",
       "<table border=\"1\" class=\"dataframe\">\n",
       "  <thead>\n",
       "    <tr style=\"text-align: right;\">\n",
       "      <th></th>\n",
       "      <th>Name</th>\n",
       "      <th>Sex</th>\n",
       "      <th>Number</th>\n",
       "    </tr>\n",
       "  </thead>\n",
       "  <tbody>\n",
       "    <tr>\n",
       "      <th>0</th>\n",
       "      <td>Emily</td>\n",
       "      <td>F</td>\n",
       "      <td>23907</td>\n",
       "    </tr>\n",
       "    <tr>\n",
       "      <th>1</th>\n",
       "      <td>Emma</td>\n",
       "      <td>F</td>\n",
       "      <td>20318</td>\n",
       "    </tr>\n",
       "    <tr>\n",
       "      <th>2</th>\n",
       "      <td>Madison</td>\n",
       "      <td>F</td>\n",
       "      <td>19549</td>\n",
       "    </tr>\n",
       "    <tr>\n",
       "      <th>3</th>\n",
       "      <td>Abigail</td>\n",
       "      <td>F</td>\n",
       "      <td>15738</td>\n",
       "    </tr>\n",
       "    <tr>\n",
       "      <th>4</th>\n",
       "      <td>Olivia</td>\n",
       "      <td>F</td>\n",
       "      <td>15685</td>\n",
       "    </tr>\n",
       "  </tbody>\n",
       "</table>\n",
       "</div>"
      ],
      "text/plain": [
       "      Name Sex  Number\n",
       "0    Emily   F   23907\n",
       "1     Emma   F   20318\n",
       "2  Madison   F   19549\n",
       "3  Abigail   F   15738\n",
       "4   Olivia   F   15685"
      ]
     },
     "execution_count": 7,
     "metadata": {},
     "output_type": "execute_result"
    }
   ],
   "source": [
    "# Used to visualize the dataframe\n",
    "babynames.head()"
   ]
  },
  {
   "cell_type": "markdown",
   "id": "c385a17d-07bb-434a-8591-4ee2b806e656",
   "metadata": {},
   "source": [
    "### 2.1 Find the number of rows and columns of `babynames`. (5 pts)"
   ]
  },
  {
   "cell_type": "code",
   "execution_count": 8,
   "id": "3f10bf0a-5eeb-4cf9-b444-e9e96b81bdd3",
   "metadata": {
    "executionCancelledAt": null,
    "executionTime": 50,
    "lastExecutedAt": 1695216505013,
    "lastScheduledRunId": null,
    "lastSuccessfullyExecutedCode": "### ### Write your codes to solve 2.1 below.\n# nrows, ncols = \n# print(nrows)\n# print(ncols)"
   },
   "outputs": [
    {
     "name": "stdout",
     "output_type": "stream",
     "text": [
      "32508\n",
      "3\n"
     ]
    }
   ],
   "source": [
    "### Write your code below to solve 2.1.\n",
    "nrows, ncols = babynames.shape\n",
    "print(nrows)\n",
    "print(ncols)"
   ]
  },
  {
   "cell_type": "markdown",
   "id": "b4693781-4aba-4f30-b674-5325b5a1aa20",
   "metadata": {},
   "source": [
    "### 2.2 Give some of the statistical summary of `babynames`. Are there missing values in the `Number` column? (5 pts) \n",
    "\n",
    "Use a `pandas` method to list the following statistics:\n",
    "* count\n",
    "* mean\n",
    "* std\n",
    "* min\n",
    "* 25%\n",
    "* 50%\n",
    "* 75%\n",
    "* max"
   ]
  },
  {
   "cell_type": "code",
   "execution_count": 34,
   "id": "99dd2a16-d6c6-438f-a5a6-233cd2ab0a45",
   "metadata": {
    "executionCancelledAt": null,
    "executionTime": 47,
    "lastExecutedAt": 1695217501065,
    "lastScheduledRunId": null,
    "lastSuccessfullyExecutedCode": "### Write your code below to solve 2.2"
   },
   "outputs": [
    {
     "data": {
      "text/html": [
       "<div>\n",
       "<style scoped>\n",
       "    .dataframe tbody tr th:only-of-type {\n",
       "        vertical-align: middle;\n",
       "    }\n",
       "\n",
       "    .dataframe tbody tr th {\n",
       "        vertical-align: top;\n",
       "    }\n",
       "\n",
       "    .dataframe thead th {\n",
       "        text-align: right;\n",
       "    }\n",
       "</style>\n",
       "<table border=\"1\" class=\"dataframe\">\n",
       "  <thead>\n",
       "    <tr style=\"text-align: right;\">\n",
       "      <th></th>\n",
       "      <th>Number</th>\n",
       "    </tr>\n",
       "  </thead>\n",
       "  <tbody>\n",
       "    <tr>\n",
       "      <th>count</th>\n",
       "      <td>32508.000000</td>\n",
       "    </tr>\n",
       "    <tr>\n",
       "      <th>mean</th>\n",
       "      <td>118.037868</td>\n",
       "    </tr>\n",
       "    <tr>\n",
       "      <th>std</th>\n",
       "      <td>811.093296</td>\n",
       "    </tr>\n",
       "    <tr>\n",
       "      <th>min</th>\n",
       "      <td>5.000000</td>\n",
       "    </tr>\n",
       "    <tr>\n",
       "      <th>25%</th>\n",
       "      <td>7.000000</td>\n",
       "    </tr>\n",
       "    <tr>\n",
       "      <th>50%</th>\n",
       "      <td>11.000000</td>\n",
       "    </tr>\n",
       "    <tr>\n",
       "      <th>75%</th>\n",
       "      <td>29.000000</td>\n",
       "    </tr>\n",
       "    <tr>\n",
       "      <th>max</th>\n",
       "      <td>25794.000000</td>\n",
       "    </tr>\n",
       "  </tbody>\n",
       "</table>\n",
       "</div>"
      ],
      "text/plain": [
       "             Number\n",
       "count  32508.000000\n",
       "mean     118.037868\n",
       "std      811.093296\n",
       "min        5.000000\n",
       "25%        7.000000\n",
       "50%       11.000000\n",
       "75%       29.000000\n",
       "max    25794.000000"
      ]
     },
     "execution_count": 34,
     "metadata": {},
     "output_type": "execute_result"
    }
   ],
   "source": [
    "### Write your code below to solve 2.2\n",
    "babynames.describe()\n",
    "# Based on the number of rows computed earlier and the count in the statistical summary, there are 0 missing values in Number."
   ]
  },
  {
   "cell_type": "markdown",
   "id": "c3f9e181-7dd1-4ba0-955b-04d98bad0fac",
   "metadata": {},
   "source": [
    "**There are 0 missing values.**"
   ]
  },
  {
   "cell_type": "code",
   "execution_count": 33,
   "id": "3293a285",
   "metadata": {},
   "outputs": [
    {
     "data": {
      "text/plain": [
       "0"
      ]
     },
     "execution_count": 33,
     "metadata": {},
     "output_type": "execute_result"
    }
   ],
   "source": [
    "# Used to check any missing values in the Number column\n",
    "babynames['Number'].isnull().sum()"
   ]
  },
  {
   "cell_type": "markdown",
   "id": "38df8360-cb06-420f-994e-98533f25bfba",
   "metadata": {},
   "source": [
    "### 2.3 Find the sum of the 3rd column of `babynames`.   (5 pts)"
   ]
  },
  {
   "cell_type": "code",
   "execution_count": 11,
   "id": "7d9a5a7c-23b2-4a56-87db-97eb78116c9a",
   "metadata": {
    "executionCancelledAt": null,
    "executionTime": 48,
    "lastExecutedAt": 1695217683293,
    "lastScheduledRunId": null,
    "lastSuccessfullyExecutedCode": "### Write your code below to solve 2.3"
   },
   "outputs": [
    {
     "data": {
      "text/plain": [
       "3837175"
      ]
     },
     "execution_count": 11,
     "metadata": {},
     "output_type": "execute_result"
    }
   ],
   "source": [
    "### Write your code below to solve 2.3\n",
    "babynames[\"Number\"].sum()"
   ]
  },
  {
   "cell_type": "markdown",
   "id": "a4e0ca82-1359-42db-bc72-780a1f351ec3",
   "metadata": {},
   "source": [
    "## Question 3.  Consider the dataset `airquality.csv`. \n",
    "\n",
    "This is a daily air quality measurements in New York from May to September 1973. \n",
    "The dataset has 6 columns."
   ]
  },
  {
   "cell_type": "markdown",
   "id": "bdf2911e-786a-42b3-b9ac-19c035cbe4e0",
   "metadata": {},
   "source": [
    "### 3.1 Read the dataset and assign it to the dataframe `airquality`.  (5 pts)"
   ]
  },
  {
   "cell_type": "code",
   "execution_count": 12,
   "id": "edc9333b-a1b6-48a2-bcd3-8ea30b799340",
   "metadata": {
    "executionCancelledAt": null,
    "executionTime": 48,
    "lastExecutedAt": 1695218211037,
    "lastScheduledRunId": null,
    "lastSuccessfullyExecutedCode": "### Write your code below to solve 3.1\n# airquality = pd.read_csv(...)\n\n",
    "outputsMetadata": {
     "0": {
      "height": 264,
      "type": "dataFrame"
     }
    }
   },
   "outputs": [],
   "source": [
    "### Write your code below to solve 3.1\n",
    "airquality = pd.read_csv(\"airquality.csv\")"
   ]
  },
  {
   "cell_type": "code",
   "execution_count": 21,
   "id": "6a2eb364",
   "metadata": {},
   "outputs": [
    {
     "data": {
      "text/html": [
       "<div>\n",
       "<style scoped>\n",
       "    .dataframe tbody tr th:only-of-type {\n",
       "        vertical-align: middle;\n",
       "    }\n",
       "\n",
       "    .dataframe tbody tr th {\n",
       "        vertical-align: top;\n",
       "    }\n",
       "\n",
       "    .dataframe thead th {\n",
       "        text-align: right;\n",
       "    }\n",
       "</style>\n",
       "<table border=\"1\" class=\"dataframe\">\n",
       "  <thead>\n",
       "    <tr style=\"text-align: right;\">\n",
       "      <th></th>\n",
       "      <th>Ozone</th>\n",
       "      <th>Solar.R</th>\n",
       "      <th>Wind</th>\n",
       "      <th>Temp</th>\n",
       "      <th>Month</th>\n",
       "      <th>Day</th>\n",
       "    </tr>\n",
       "  </thead>\n",
       "  <tbody>\n",
       "    <tr>\n",
       "      <th>0</th>\n",
       "      <td>41.0</td>\n",
       "      <td>190.0</td>\n",
       "      <td>7.4</td>\n",
       "      <td>67</td>\n",
       "      <td>5</td>\n",
       "      <td>1</td>\n",
       "    </tr>\n",
       "    <tr>\n",
       "      <th>1</th>\n",
       "      <td>36.0</td>\n",
       "      <td>118.0</td>\n",
       "      <td>8.0</td>\n",
       "      <td>72</td>\n",
       "      <td>5</td>\n",
       "      <td>2</td>\n",
       "    </tr>\n",
       "    <tr>\n",
       "      <th>2</th>\n",
       "      <td>12.0</td>\n",
       "      <td>149.0</td>\n",
       "      <td>12.6</td>\n",
       "      <td>74</td>\n",
       "      <td>5</td>\n",
       "      <td>3</td>\n",
       "    </tr>\n",
       "    <tr>\n",
       "      <th>3</th>\n",
       "      <td>18.0</td>\n",
       "      <td>313.0</td>\n",
       "      <td>11.5</td>\n",
       "      <td>62</td>\n",
       "      <td>5</td>\n",
       "      <td>4</td>\n",
       "    </tr>\n",
       "    <tr>\n",
       "      <th>4</th>\n",
       "      <td>NaN</td>\n",
       "      <td>NaN</td>\n",
       "      <td>14.3</td>\n",
       "      <td>56</td>\n",
       "      <td>5</td>\n",
       "      <td>5</td>\n",
       "    </tr>\n",
       "  </tbody>\n",
       "</table>\n",
       "</div>"
      ],
      "text/plain": [
       "   Ozone  Solar.R  Wind  Temp  Month  Day\n",
       "0   41.0    190.0   7.4    67      5    1\n",
       "1   36.0    118.0   8.0    72      5    2\n",
       "2   12.0    149.0  12.6    74      5    3\n",
       "3   18.0    313.0  11.5    62      5    4\n",
       "4    NaN      NaN  14.3    56      5    5"
      ]
     },
     "execution_count": 21,
     "metadata": {},
     "output_type": "execute_result"
    }
   ],
   "source": [
    "# Used to visualize the dataframe\n",
    "airquality.head()"
   ]
  },
  {
   "cell_type": "markdown",
   "id": "e033f83a-58b4-4665-aacb-08df62704c79",
   "metadata": {},
   "source": [
    "### 3.2 Run the code `airquality.info()`. Identify the columns with missing values and write the number of their missing values. (5 pts)"
   ]
  },
  {
   "cell_type": "code",
   "execution_count": 37,
   "id": "4171ec69-8d66-4d1c-941f-e97812e04110",
   "metadata": {
    "executionCancelledAt": null,
    "executionTime": 17,
    "lastExecutedAt": 1695218441746,
    "lastScheduledRunId": null,
    "lastSuccessfullyExecutedCode": "### Write your code below.\nairquality.info()"
   },
   "outputs": [
    {
     "name": "stdout",
     "output_type": "stream",
     "text": [
      "<class 'pandas.core.frame.DataFrame'>\n",
      "RangeIndex: 153 entries, 0 to 152\n",
      "Data columns (total 6 columns):\n",
      " #   Column   Non-Null Count  Dtype  \n",
      "---  ------   --------------  -----  \n",
      " 0   Ozone    116 non-null    float64\n",
      " 1   Solar.R  146 non-null    float64\n",
      " 2   Wind     153 non-null    float64\n",
      " 3   Temp     153 non-null    int64  \n",
      " 4   Month    153 non-null    int64  \n",
      " 5   Day      153 non-null    int64  \n",
      "dtypes: float64(3), int64(3)\n",
      "memory usage: 7.3 KB\n"
     ]
    }
   ],
   "source": [
    "airquality.info()\n",
    "# Observe that Wind, Temp, Month, and Day has 153 entries. This implies that 153 is the total number of data values.\n",
    "# Ozone has 116 entries while Solar.R has 146 so there are 37 missing entries for Ozone and 7 missing entries for Solar.R\n",
    "# Ozone: 153 - 116 = 37\n",
    "# Solar. R: 153 - 146 = 7"
   ]
  },
  {
   "cell_type": "markdown",
   "id": "1a66f6e1-eaca-4779-a68f-d006af20ffa6",
   "metadata": {},
   "source": [
    "**There are 2 columns with missing values. These are:**\n",
    "\n",
    "$\\checkmark$ Name: `Ozone`. Count of missing values: `37`\n",
    "\n",
    "$\\checkmark$ Name: `Solar.R`. Count of missing values: `7`\n",
    "\n",
    "\n",
    "\n",
    "\n",
    "\n",
    "\n"
   ]
  },
  {
   "cell_type": "code",
   "execution_count": 38,
   "id": "ca72c22a",
   "metadata": {},
   "outputs": [
    {
     "data": {
      "text/plain": [
       "Ozone      37\n",
       "Solar.R     7\n",
       "Wind        0\n",
       "Temp        0\n",
       "Month       0\n",
       "Day         0\n",
       "dtype: int64"
      ]
     },
     "execution_count": 38,
     "metadata": {},
     "output_type": "execute_result"
    }
   ],
   "source": [
    "# Used to verify the number of missing values\n",
    "airquality.isnull().sum()"
   ]
  },
  {
   "cell_type": "markdown",
   "id": "aa0a89fc-bb5b-459c-8e06-bdcabd5f5134",
   "metadata": {},
   "source": [
    "### 3.3 Remove the rows with missing values in `airquality` and assign the result to a new dataframe `airquality_cleaned`. How many rows are in the new dataframe? (5 pts)"
   ]
  },
  {
   "cell_type": "code",
   "execution_count": 16,
   "id": "e756fc0f-3d7f-4c1b-a172-10949013a9d6",
   "metadata": {
    "executionCancelledAt": null,
    "executionTime": 50,
    "lastExecutedAt": 1695218940941,
    "lastScheduledRunId": null,
    "lastSuccessfullyExecutedCode": "### Write your code below to solve/answer 3.3.\n\n",
    "outputsMetadata": {
     "0": {
      "height": 37,
      "type": "stream"
     }
    }
   },
   "outputs": [
    {
     "name": "stdout",
     "output_type": "stream",
     "text": [
      "111\n"
     ]
    }
   ],
   "source": [
    "### Write your code below to solve/answer 3.3.\n",
    "airquality_cleaned = airquality.dropna()\n",
    "nrow = airquality_cleaned.shape[0]\n",
    "## Number of rows left\n",
    "print(nrow)"
   ]
  },
  {
   "cell_type": "markdown",
   "id": "d748a8f9-8865-4cef-b202-d3645a7233f7",
   "metadata": {},
   "source": [
    "### 3.4  Fill the missing values in `airquality` with the mean of each column and assign the result to `airquality_filled`. Check whether the two dataframes have equal mean in each column. (5 pts)"
   ]
  },
  {
   "cell_type": "code",
   "execution_count": 30,
   "id": "b7bd4e99-7373-48a6-8feb-581d6ab0cd9c",
   "metadata": {
    "executionCancelledAt": null,
    "executionTime": 50,
    "lastExecutedAt": 1695219716898,
    "lastScheduledRunId": null,
    "lastSuccessfullyExecutedCode": "### Write your code below to answer/solve 3.4\nairquality_filled =\nairquality_filled.describe().loc[\"mean\"] == airquality.describe().loc[\"mean\"]\n",
    "outputsMetadata": {
     "0": {
      "height": 56,
      "type": "stream"
     }
    }
   },
   "outputs": [
    {
     "data": {
      "text/plain": [
       "Ozone      False\n",
       "Solar.R    False\n",
       "Wind        True\n",
       "Temp        True\n",
       "Month       True\n",
       "Day         True\n",
       "dtype: bool"
      ]
     },
     "execution_count": 30,
     "metadata": {},
     "output_type": "execute_result"
    }
   ],
   "source": [
    "### Write your code below to answer/solve 3.4\n",
    "airquality_filled = airquality.fillna(airquality.mean())\n",
    "airquality_filled.describe().loc[\"mean\"] == airquality.mean()"
   ]
  },
  {
   "cell_type": "code",
   "execution_count": 39,
   "id": "e89a689a",
   "metadata": {},
   "outputs": [
    {
     "data": {
      "text/plain": [
       "Ozone      True\n",
       "Solar.R    True\n",
       "Wind       True\n",
       "Temp       True\n",
       "Month      True\n",
       "Day        True\n",
       "dtype: bool"
      ]
     },
     "execution_count": 39,
     "metadata": {},
     "output_type": "execute_result"
    }
   ],
   "source": [
    "# We can utilize the round function to make each column have equal mean.\n",
    "airquality_filled = airquality.fillna(airquality.mean()).round(2)\n",
    "airquality_filled.describe().loc[\"mean\"].round(2) == airquality.mean().round(2)"
   ]
  }
 ],
 "metadata": {
  "colab": {
   "name": "Welcome to DataCamp Workspaces.ipynb",
   "provenance": []
  },
  "kernelspec": {
   "display_name": "Python 3 (ipykernel)",
   "language": "python",
   "name": "python3"
  },
  "language_info": {
   "codemirror_mode": {
    "name": "ipython",
    "version": 3
   },
   "file_extension": ".py",
   "mimetype": "text/x-python",
   "name": "python",
   "nbconvert_exporter": "python",
   "pygments_lexer": "ipython3",
   "version": "3.9.13"
  }
 },
 "nbformat": 4,
 "nbformat_minor": 5
}
