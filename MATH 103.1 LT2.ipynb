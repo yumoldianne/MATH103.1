{
 "cells": [
  {
   "cell_type": "markdown",
   "id": "fe57e6de-1422-4b26-857b-99230fbcc82e",
   "metadata": {},
   "source": [
    "# Exam 2 Data Wrangling, Visualization, and Aggregation\n",
    "\n",
    "Name: **Yumol, Dianne**"
   ]
  },
  {
   "cell_type": "markdown",
   "id": "ec5fdac2-a351-4b44-be3c-b7d4bd04c895",
   "metadata": {},
   "source": [
    "## Problem 1. Import the following: `pandas` as `pd`, `seaborn` as `sns`, `matplotlib.pyplot` as `plt`. (2 points)"
   ]
  },
  {
   "cell_type": "code",
   "execution_count": 1,
   "id": "6d86c370-fae4-4f6e-80a0-5df7c7b37d52",
   "metadata": {
    "executionCancelledAt": null,
    "executionTime": 48,
    "lastExecutedAt": 1696564042998,
    "lastScheduledRunId": null,
    "lastSuccessfullyExecutedCode": "import numpy as np\nimport pandas as pd\nimport seaborn as sns\nimport pandas as pd\nimport matplotlib.pyplot as plt"
   },
   "outputs": [],
   "source": [
    "# Write your code here.\n",
    "import numpy as np\n",
    "import pandas as pd\n",
    "import seaborn as sns\n",
    "import matplotlib.pyplot as plt"
   ]
  },
  {
   "cell_type": "markdown",
   "id": "3567c2df-19a8-4134-8a75-dd67d345643b",
   "metadata": {},
   "source": [
    "## Problem 2. Load the file \"books.csv\" into `books` DataFrame (3 points)"
   ]
  },
  {
   "cell_type": "code",
   "execution_count": 4,
   "id": "0b872702-7abc-48cf-b9d9-470fcd62798f",
   "metadata": {
    "executionCancelledAt": null,
    "executionTime": 10,
    "lastExecutedAt": 1696566409771,
    "lastScheduledRunId": null,
    "lastSuccessfullyExecutedCode": "# Write your code here.\n# books = pd._____(________)"
   },
   "outputs": [],
   "source": [
    "# Write your code here.\n",
    "books = pd.read_csv('clean_books.csv')"
   ]
  },
  {
   "cell_type": "markdown",
   "id": "8a259811-c2dd-4349-a3c2-1558e9395a29",
   "metadata": {},
   "source": [
    "## Problem 3. Print the last 6 rows of the `books`DataFrame.  (5 points)"
   ]
  },
  {
   "cell_type": "code",
   "execution_count": 5,
   "id": "496fa9c7-785f-4d3e-89ca-49c4a20ca86a",
   "metadata": {
    "executionCancelledAt": null,
    "executionTime": 69,
    "lastExecutedAt": 1696565870402,
    "lastScheduledRunId": null,
    "lastSuccessfullyExecutedCode": "# Write your code here.\nbooks"
   },
   "outputs": [
    {
     "data": {
      "text/html": [
       "<div>\n",
       "<style scoped>\n",
       "    .dataframe tbody tr th:only-of-type {\n",
       "        vertical-align: middle;\n",
       "    }\n",
       "\n",
       "    .dataframe tbody tr th {\n",
       "        vertical-align: top;\n",
       "    }\n",
       "\n",
       "    .dataframe thead th {\n",
       "        text-align: right;\n",
       "    }\n",
       "</style>\n",
       "<table border=\"1\" class=\"dataframe\">\n",
       "  <thead>\n",
       "    <tr style=\"text-align: right;\">\n",
       "      <th></th>\n",
       "      <th>name</th>\n",
       "      <th>author</th>\n",
       "      <th>rating</th>\n",
       "      <th>year</th>\n",
       "      <th>genre</th>\n",
       "    </tr>\n",
       "  </thead>\n",
       "  <tbody>\n",
       "    <tr>\n",
       "      <th>344</th>\n",
       "      <td>Whose Boat Is This Boat?: Comments That Don't ...</td>\n",
       "      <td>The Staff of The Late Show with</td>\n",
       "      <td>4.6</td>\n",
       "      <td>2018</td>\n",
       "      <td>Non Fiction</td>\n",
       "    </tr>\n",
       "    <tr>\n",
       "      <th>345</th>\n",
       "      <td>Wild: From Lost to Found on the Pacific Crest ...</td>\n",
       "      <td>Cheryl Strayed</td>\n",
       "      <td>4.4</td>\n",
       "      <td>2012</td>\n",
       "      <td>Non Fiction</td>\n",
       "    </tr>\n",
       "    <tr>\n",
       "      <th>346</th>\n",
       "      <td>Winter of the World: Book Two of the Century T...</td>\n",
       "      <td>Ken Follett</td>\n",
       "      <td>4.5</td>\n",
       "      <td>2012</td>\n",
       "      <td>Fiction</td>\n",
       "    </tr>\n",
       "    <tr>\n",
       "      <th>347</th>\n",
       "      <td>Women Food and God: An Unexpected Path to Almo...</td>\n",
       "      <td>Geneen Roth</td>\n",
       "      <td>4.2</td>\n",
       "      <td>2010</td>\n",
       "      <td>Non Fiction</td>\n",
       "    </tr>\n",
       "    <tr>\n",
       "      <th>348</th>\n",
       "      <td>Wonder</td>\n",
       "      <td>R. J. Palacio</td>\n",
       "      <td>4.8</td>\n",
       "      <td>2013</td>\n",
       "      <td>Fiction</td>\n",
       "    </tr>\n",
       "    <tr>\n",
       "      <th>349</th>\n",
       "      <td>Wrecking Ball (Diary of a Wimpy Kid Book 14)</td>\n",
       "      <td>Jeff Kinney</td>\n",
       "      <td>4.9</td>\n",
       "      <td>2019</td>\n",
       "      <td>Childrens</td>\n",
       "    </tr>\n",
       "  </tbody>\n",
       "</table>\n",
       "</div>"
      ],
      "text/plain": [
       "                                                  name  \\\n",
       "344  Whose Boat Is This Boat?: Comments That Don't ...   \n",
       "345  Wild: From Lost to Found on the Pacific Crest ...   \n",
       "346  Winter of the World: Book Two of the Century T...   \n",
       "347  Women Food and God: An Unexpected Path to Almo...   \n",
       "348                                             Wonder   \n",
       "349       Wrecking Ball (Diary of a Wimpy Kid Book 14)   \n",
       "\n",
       "                               author  rating  year        genre  \n",
       "344  The Staff of The Late Show with\n",
       "     4.6  2018  Non Fiction  \n",
       "345                    Cheryl Strayed     4.4  2012  Non Fiction  \n",
       "346                       Ken Follett     4.5  2012      Fiction  \n",
       "347                       Geneen Roth     4.2  2010  Non Fiction  \n",
       "348                     R. J. Palacio     4.8  2013      Fiction  \n",
       "349                       Jeff Kinney     4.9  2019    Childrens  "
      ]
     },
     "execution_count": 5,
     "metadata": {},
     "output_type": "execute_result"
    }
   ],
   "source": [
    "# Write your code here.\n",
    "books.tail(6)"
   ]
  },
  {
   "cell_type": "markdown",
   "id": "3665e820-0c85-42aa-9626-e991e3c621cb",
   "metadata": {},
   "source": [
    "## Problem 4. Print a summary of non-missing values and data types in the `books` DataFrame.  (5 points)"
   ]
  },
  {
   "cell_type": "code",
   "execution_count": 7,
   "id": "90c33f64-5159-4b24-b1a5-466a45202884",
   "metadata": {
    "executionCancelledAt": null,
    "executionTime": 11,
    "lastExecutedAt": 1696565463793,
    "lastScheduledRunId": null,
    "lastSuccessfullyExecutedCode": "# Write your code here.\n# print(books._____)"
   },
   "outputs": [
    {
     "name": "stdout",
     "output_type": "stream",
     "text": [
      "<class 'pandas.core.frame.DataFrame'>\n",
      "RangeIndex: 350 entries, 0 to 349\n",
      "Data columns (total 5 columns):\n",
      " #   Column  Non-Null Count  Dtype  \n",
      "---  ------  --------------  -----  \n",
      " 0   name    350 non-null    object \n",
      " 1   author  350 non-null    object \n",
      " 2   rating  350 non-null    float64\n",
      " 3   year    350 non-null    int64  \n",
      " 4   genre   350 non-null    object \n",
      "dtypes: float64(1), int64(1), object(3)\n",
      "memory usage: 13.8+ KB\n",
      "None\n"
     ]
    }
   ],
   "source": [
    "# Write your code here.\n",
    "print(books.info())"
   ]
  },
  {
   "cell_type": "markdown",
   "id": "7be434b3-bfd4-4b24-90c4-c289603a84fd",
   "metadata": {},
   "source": [
    "## Problem 5. Print summary statistics for numerical columns in books.  (5 points)"
   ]
  },
  {
   "cell_type": "code",
   "execution_count": 12,
   "id": "d931564f-d742-453d-9685-a25de7d68470",
   "metadata": {
    "executionCancelledAt": null,
    "executionTime": 11,
    "lastExecutedAt": 1696565477201,
    "lastScheduledRunId": null,
    "lastSuccessfullyExecutedCode": "# Write your code here.\n# print(books._____)",
    "outputsMetadata": {
     "0": {
      "height": 251,
      "type": "stream"
     }
    }
   },
   "outputs": [
    {
     "name": "stdout",
     "output_type": "stream",
     "text": [
      "           rating         year\n",
      "count  350.000000   350.000000\n",
      "mean     4.608571  2013.508571\n",
      "std      0.226941     3.284711\n",
      "min      3.300000  2009.000000\n",
      "25%      4.500000  2010.000000\n",
      "50%      4.600000  2013.000000\n",
      "75%      4.800000  2016.000000\n",
      "max      4.900000  2019.000000\n"
     ]
    }
   ],
   "source": [
    "# Write your code here.\n",
    "print(books.describe())"
   ]
  },
  {
   "cell_type": "markdown",
   "id": "bf59e1bb-6cec-479a-b26d-fe61a08acf71",
   "metadata": {},
   "source": [
    "## Problem 6. Count the values associated with each `genre` column in `books` DataFrame.  (5 points)"
   ]
  },
  {
   "cell_type": "code",
   "execution_count": 8,
   "id": "599b390d-5059-491f-a913-341fe591c53e",
   "metadata": {
    "executionCancelledAt": null,
    "executionTime": 52,
    "lastExecutedAt": 1696566552879,
    "lastScheduledRunId": null,
    "lastSuccessfullyExecutedCode": "# Rewrite this code.\nprint(books[\"year\"].value_counts())",
    "outputsMetadata": {
     "0": {
      "height": 251,
      "type": "stream"
     }
    }
   },
   "outputs": [
    {
     "name": "stdout",
     "output_type": "stream",
     "text": [
      "Non Fiction    179\n",
      "Fiction        131\n",
      "Childrens       40\n",
      "Name: genre, dtype: int64\n"
     ]
    }
   ],
   "source": [
    "# Rewrite this code.\n",
    "print(books[\"genre\"].value_counts())"
   ]
  },
  {
   "cell_type": "markdown",
   "id": "523fe06f-f9b3-4df7-949b-784803dd0e76",
   "metadata": {},
   "source": [
    "## Problem 7. Show a histogram of the rating column; show a 1/4 percent in each bin. (5 points)"
   ]
  },
  {
   "cell_type": "code",
   "execution_count": 15,
   "id": "86835a58-7303-4ed3-8139-05102940a91e",
   "metadata": {
    "executionCancelledAt": null,
    "executionTime": 125,
    "lastExecutedAt": 1696566727724,
    "lastScheduledRunId": null,
    "lastSuccessfullyExecutedCode": "# Rewrite the code below to a histogram of the rating column with a 1/4 percent in each bin.\nsns.histplot(data=books, x=\"year\", binwidth=1)\nplt.show()"
   },
   "outputs": [
    {
     "data": {
      "image/png": "[encoded data removed]",
      "text/plain": [
       "<Figure size 640x480 with 1 Axes>"
      ]
     },
     "metadata": {},
     "output_type": "display_data"
    }
   ],
   "source": [
    "# Rewrite the code below to a histogram of the rating column with a 1/4 percent in each bin.\n",
    "sns.histplot(data=books, x=\"rating\", binwidth=0.25, stat=\"percent\", kde=False)\n",
    "plt.xlabel('Rating')\n",
    "plt.ylabel('Percentage')\n",
    "plt.title('Histogram of Ratings with 1/4 percent in each bin')\n",
    "plt.show()"
   ]
  },
  {
   "cell_type": "markdown",
   "id": "59acb3c8-500a-419d-bf56-0de642663b6b",
   "metadata": {},
   "source": [
    "## Problem 8.  Create a boxplot of `rating` in the `books` DataFrame, broken down by `genre`. (10 points)"
   ]
  },
  {
   "cell_type": "code",
   "execution_count": 20,
   "id": "ac952d76",
   "metadata": {},
   "outputs": [
    {
     "data": {
      "image/png": "[encoded data removed]",
      "text/plain": [
       "<Figure size 640x480 with 1 Axes>"
      ]
     },
     "metadata": {},
     "output_type": "display_data"
    }
   ],
   "source": [
    "# Rewrite the code below to show a boxplot of `rating` broken down by `genre`.\n",
    "sns.boxplot(data=books, x=\"genre\", y=\"rating\")\n",
    "plt.xlabel('Genre')\n",
    "plt.ylabel('Rating')\n",
    "plt.title('Boxplot of Ratings by Genre')\n",
    "plt.show()"
   ]
  },
  {
   "cell_type": "code",
   "execution_count": 21,
   "id": "2712aac3",
   "metadata": {},
   "outputs": [
    {
     "data": {
      "image/png": "[encoded data removed]",
      "text/plain": [
       "<Figure size 640x480 with 1 Axes>"
      ]
     },
     "metadata": {},
     "output_type": "display_data"
    }
   ],
   "source": [
    "# An alternative graph can be found below.\n",
    "sns.boxplot(data=books, x=\"rating\", y=\"genre\")\n",
    "plt.xlabel('Genre')\n",
    "plt.ylabel('Rating')\n",
    "plt.title('Boxplot of Ratings by Genre')\n",
    "plt.show()"
   ]
  },
  {
   "cell_type": "markdown",
   "id": "2b3daf81-7d21-4f79-93c4-d45941d8eb30",
   "metadata": {},
   "source": [
    "## Problem 9. Print the mean and standard deviation of the `rating` grouped by `genre`. (10 points)"
   ]
  },
  {
   "cell_type": "code",
   "execution_count": 13,
   "id": "b7a0546c-fa6c-4e8e-982d-ffdf5d3360f1",
   "metadata": {
    "executionCancelledAt": null,
    "executionTime": 20,
    "lastExecutedAt": 1696565785972,
    "lastScheduledRunId": null,
    "lastSuccessfullyExecutedCode": "# Rewrite this code.\nprint(books.agg([\"mean\",\"std\"]))",
    "outputsMetadata": {
     "0": {
      "height": 134,
      "type": "stream"
     }
    }
   },
   "outputs": [
    {
     "name": "stdout",
     "output_type": "stream",
     "text": [
      "                 mean       std\n",
      "genre                          \n",
      "Childrens    4.780000  0.122370\n",
      "Fiction      4.570229  0.281123\n",
      "Non Fiction  4.598324  0.179411\n"
     ]
    }
   ],
   "source": [
    "# Rewrite this code.\n",
    "print(books.groupby('genre')['rating'].agg(['mean', 'std']))"
   ]
  }
 ],
 "metadata": {
  "colab": {
   "name": "Welcome to DataCamp Workspaces.ipynb",
   "provenance": []
  },
  "kernelspec": {
   "display_name": "Python 3 (ipykernel)",
   "language": "python",
   "name": "python3"
  },
  "language_info": {
   "codemirror_mode": {
    "name": "ipython",
    "version": 3
   },
   "file_extension": ".py",
   "mimetype": "text/x-python",
   "name": "python",
   "nbconvert_exporter": "python",
   "pygments_lexer": "ipython3",
   "version": "3.9.13"
  }
 },
 "nbformat": 4,
 "nbformat_minor": 5
}
